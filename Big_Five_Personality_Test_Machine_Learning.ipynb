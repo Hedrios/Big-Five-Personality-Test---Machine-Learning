{
  "nbformat": 4,
  "nbformat_minor": 0,
  "metadata": {
    "colab": {
      "provenance": [],
      "authorship_tag": "ABX9TyNZGCNWb2GI3NnXHnTddmUh",
      "include_colab_link": true
    },
    "kernelspec": {
      "name": "python3",
      "display_name": "Python 3"
    },
    "language_info": {
      "name": "python"
    }
  },
  "cells": [
    {
      "cell_type": "markdown",
      "metadata": {
        "id": "view-in-github",
        "colab_type": "text"
      },
      "source": [
        "<a href=\"https://colab.research.google.com/github/Hedrios/Big-Five-Personality-Test---Machine-Learning/blob/main/Big_Five_Personality_Test_Machine_Learning.ipynb\" target=\"_parent\"><img src=\"https://colab.research.google.com/assets/colab-badge.svg\" alt=\"Open In Colab\"/></a>"
      ]
    },
    {
      "cell_type": "markdown",
      "source": [
        "# **Big Five Personality Test - Machine Learning**"
      ],
      "metadata": {
        "id": "zqWTd-Er_jIN"
      }
    },
    {
      "cell_type": "markdown",
      "source": [
        "Link do Desafio do Projeto\n",
        "\n",
        "https://www.kaggle.com/datasets/tunguz/big-five-personality-test"
      ],
      "metadata": {
        "id": "-BAsnoCJ_nvF"
      }
    },
    {
      "cell_type": "markdown",
      "source": [
        "# **1. Contexto**"
      ],
      "metadata": {
        "id": "Uc8i6eMN_puO"
      }
    },
    {
      "cell_type": "markdown",
      "source": [
        "Este projeto tem como objetivo realizar uma análise exploratória dos traços de personalidade com base no modelo OCEAN (Openness, Conscientiousness, Extraversion, Agreeableness, Neuroticism), também conhecido como Big Five. Utilizando técnicas de Machine Learning, como algoritmos de clustering, buscamos identificar padrões de personalidade em um grande conjunto de dados obtido a partir de um teste de personalidade. A análise é conduzida de forma a descobrir como esses traços se agrupam em diferentes perfis de personalidade, oferecendo insights que podem ser aplicados em áreas como psicologia, recursos humanos e marketing."
      ],
      "metadata": {
        "id": "qpCXUXP-_vu-"
      }
    },
    {
      "cell_type": "markdown",
      "source": [
        "# **2. Pacotes e bibliotecas**"
      ],
      "metadata": {
        "id": "Eo813eMU_yin"
      }
    },
    {
      "cell_type": "code",
      "source": [
        "# Instalação do pacote Gradio\n",
        "!pip install gradio\n",
        "\n",
        "# Importação das bibliotecas\n",
        "import numpy as np  # Usado para cálculos matemáticos e manipulação de arrays.\n",
        "import pandas as pd  # Usado para trabalhar com dados em tabelas (DataFrames).\n",
        "import matplotlib.pyplot as plt  # Usado para criar gráficos e visualizações.\n",
        "import seaborn as sns  # Usado para criar gráficos bonitos e estatísticos.\n",
        "import gradio as gr  # Usado para criar interfaces interativas para modelos de Machine Learning.\n",
        "import os  # Usado para interagir com o sistema de arquivos do computador.\n",
        "\n",
        "from sklearn.ensemble import IsolationForest  # Usado para detectar outliers (valores anômalos) nos dados.\n",
        "from sklearn.decomposition import PCA  # Usado para reduzir o número de variáveis, facilitando a visualização.\n",
        "from sklearn.cluster import KMeans  # Usado para agrupar dados em grupos com características semelhantes.\n",
        "from sklearn.cluster import DBSCAN  # Usado para agrupar dados baseado na densidade dos pontos.\n",
        "from yellowbrick.cluster import KElbowVisualizer  # Usado para ajudar a escolher o melhor número de grupos para o K-Means."
      ],
      "metadata": {
        "id": "SCZRZ31g_2oc"
      },
      "execution_count": null,
      "outputs": []
    },
    {
      "cell_type": "markdown",
      "source": [
        "# **3. Exploração de dados**"
      ],
      "metadata": {
        "id": "6aadppLY_5vJ"
      }
    },
    {
      "cell_type": "markdown",
      "source": [
        "## **3.1 Coleta**"
      ],
      "metadata": {
        "id": "29ZkSB0j_96_"
      }
    },
    {
      "cell_type": "markdown",
      "source": [
        "### **3.1.1 Download dos dado bruto**"
      ],
      "metadata": {
        "id": "XLn4TyzNABCT"
      }
    },
    {
      "cell_type": "code",
      "source": [
        "# Usar gdown para baixar o arquivo do Google Drive\n",
        "!gdown 'https://drive.google.com/uc?export=download&id=1cIpmCqhN1kxNvOLvuPbjMjZPBhWEY0Z0' -O data-final.csv"
      ],
      "metadata": {
        "colab": {
          "base_uri": "https://localhost:8080/"
        },
        "id": "BS4jfyE1AEh6",
        "outputId": "c6b6aca2-c99f-4dda-879f-47882114e67c"
      },
      "execution_count": 2,
      "outputs": [
        {
          "output_type": "stream",
          "name": "stdout",
          "text": [
            "Downloading...\n",
            "From (original): https://drive.google.com/uc?export=download&id=1cIpmCqhN1kxNvOLvuPbjMjZPBhWEY0Z0\n",
            "From (redirected): https://drive.google.com/uc?export=download&id=1cIpmCqhN1kxNvOLvuPbjMjZPBhWEY0Z0&confirm=t&uuid=2f91018e-654d-4974-9554-5255d7e24546\n",
            "To: /content/data-final.csv\n",
            "100% 416M/416M [00:06<00:00, 62.1MB/s]\n"
          ]
        }
      ]
    },
    {
      "cell_type": "markdown",
      "source": [
        "### **3.1.2 Carregar os dados do arquivo em um dicionário Python**"
      ],
      "metadata": {
        "id": "cLbKDSU-AGWw"
      }
    },
    {
      "cell_type": "code",
      "source": [
        "data = pd.read_csv('data-final.csv', sep='\\t')\n",
        "\n",
        "# Mostrar as primeiras linhas do arquivo limpo\n",
        "data.head()"
      ],
      "metadata": {
        "colab": {
          "base_uri": "https://localhost:8080/",
          "height": 429
        },
        "id": "VuMUMhNFAKa6",
        "outputId": "b0e5041b-9373-4f8e-bb19-551d52d207b8"
      },
      "execution_count": 3,
      "outputs": [
        {
          "output_type": "execute_result",
          "data": {
            "text/plain": [
              "   EXT1  EXT2  EXT3  EXT4  EXT5  EXT6  EXT7  EXT8  EXT9  EXT10  ...  \\\n",
              "0   4.0   1.0   5.0   2.0   5.0   1.0   5.0   2.0   4.0    1.0  ...   \n",
              "1   3.0   5.0   3.0   4.0   3.0   3.0   2.0   5.0   1.0    5.0  ...   \n",
              "2   2.0   3.0   4.0   4.0   3.0   2.0   1.0   3.0   2.0    5.0  ...   \n",
              "3   2.0   2.0   2.0   3.0   4.0   2.0   2.0   4.0   1.0    4.0  ...   \n",
              "4   3.0   3.0   3.0   3.0   5.0   3.0   3.0   5.0   3.0    4.0  ...   \n",
              "\n",
              "              dateload  screenw  screenh  introelapse  testelapse  endelapse  \\\n",
              "0  2016-03-03 02:01:01    768.0   1024.0          9.0       234.0          6   \n",
              "1  2016-03-03 02:01:20   1360.0    768.0         12.0       179.0         11   \n",
              "2  2016-03-03 02:01:56   1366.0    768.0          3.0       186.0          7   \n",
              "3  2016-03-03 02:02:02   1920.0   1200.0        186.0       219.0          7   \n",
              "4  2016-03-03 02:02:57   1366.0    768.0          8.0       315.0         17   \n",
              "\n",
              "   IPC  country  lat_appx_lots_of_err  long_appx_lots_of_err  \n",
              "0    1       GB               51.5448                 0.1991  \n",
              "1    1       MY                3.1698                101.706  \n",
              "2    1       GB               54.9119                -1.3833  \n",
              "3    1       GB                 51.75                  -1.25  \n",
              "4    2       KE                   1.0                   38.0  \n",
              "\n",
              "[5 rows x 110 columns]"
            ],
            "text/html": [
              "\n",
              "  <div id=\"df-dbdd45e0-5d13-46d6-871d-a071957962bd\" class=\"colab-df-container\">\n",
              "    <div>\n",
              "<style scoped>\n",
              "    .dataframe tbody tr th:only-of-type {\n",
              "        vertical-align: middle;\n",
              "    }\n",
              "\n",
              "    .dataframe tbody tr th {\n",
              "        vertical-align: top;\n",
              "    }\n",
              "\n",
              "    .dataframe thead th {\n",
              "        text-align: right;\n",
              "    }\n",
              "</style>\n",
              "<table border=\"1\" class=\"dataframe\">\n",
              "  <thead>\n",
              "    <tr style=\"text-align: right;\">\n",
              "      <th></th>\n",
              "      <th>EXT1</th>\n",
              "      <th>EXT2</th>\n",
              "      <th>EXT3</th>\n",
              "      <th>EXT4</th>\n",
              "      <th>EXT5</th>\n",
              "      <th>EXT6</th>\n",
              "      <th>EXT7</th>\n",
              "      <th>EXT8</th>\n",
              "      <th>EXT9</th>\n",
              "      <th>EXT10</th>\n",
              "      <th>...</th>\n",
              "      <th>dateload</th>\n",
              "      <th>screenw</th>\n",
              "      <th>screenh</th>\n",
              "      <th>introelapse</th>\n",
              "      <th>testelapse</th>\n",
              "      <th>endelapse</th>\n",
              "      <th>IPC</th>\n",
              "      <th>country</th>\n",
              "      <th>lat_appx_lots_of_err</th>\n",
              "      <th>long_appx_lots_of_err</th>\n",
              "    </tr>\n",
              "  </thead>\n",
              "  <tbody>\n",
              "    <tr>\n",
              "      <th>0</th>\n",
              "      <td>4.0</td>\n",
              "      <td>1.0</td>\n",
              "      <td>5.0</td>\n",
              "      <td>2.0</td>\n",
              "      <td>5.0</td>\n",
              "      <td>1.0</td>\n",
              "      <td>5.0</td>\n",
              "      <td>2.0</td>\n",
              "      <td>4.0</td>\n",
              "      <td>1.0</td>\n",
              "      <td>...</td>\n",
              "      <td>2016-03-03 02:01:01</td>\n",
              "      <td>768.0</td>\n",
              "      <td>1024.0</td>\n",
              "      <td>9.0</td>\n",
              "      <td>234.0</td>\n",
              "      <td>6</td>\n",
              "      <td>1</td>\n",
              "      <td>GB</td>\n",
              "      <td>51.5448</td>\n",
              "      <td>0.1991</td>\n",
              "    </tr>\n",
              "    <tr>\n",
              "      <th>1</th>\n",
              "      <td>3.0</td>\n",
              "      <td>5.0</td>\n",
              "      <td>3.0</td>\n",
              "      <td>4.0</td>\n",
              "      <td>3.0</td>\n",
              "      <td>3.0</td>\n",
              "      <td>2.0</td>\n",
              "      <td>5.0</td>\n",
              "      <td>1.0</td>\n",
              "      <td>5.0</td>\n",
              "      <td>...</td>\n",
              "      <td>2016-03-03 02:01:20</td>\n",
              "      <td>1360.0</td>\n",
              "      <td>768.0</td>\n",
              "      <td>12.0</td>\n",
              "      <td>179.0</td>\n",
              "      <td>11</td>\n",
              "      <td>1</td>\n",
              "      <td>MY</td>\n",
              "      <td>3.1698</td>\n",
              "      <td>101.706</td>\n",
              "    </tr>\n",
              "    <tr>\n",
              "      <th>2</th>\n",
              "      <td>2.0</td>\n",
              "      <td>3.0</td>\n",
              "      <td>4.0</td>\n",
              "      <td>4.0</td>\n",
              "      <td>3.0</td>\n",
              "      <td>2.0</td>\n",
              "      <td>1.0</td>\n",
              "      <td>3.0</td>\n",
              "      <td>2.0</td>\n",
              "      <td>5.0</td>\n",
              "      <td>...</td>\n",
              "      <td>2016-03-03 02:01:56</td>\n",
              "      <td>1366.0</td>\n",
              "      <td>768.0</td>\n",
              "      <td>3.0</td>\n",
              "      <td>186.0</td>\n",
              "      <td>7</td>\n",
              "      <td>1</td>\n",
              "      <td>GB</td>\n",
              "      <td>54.9119</td>\n",
              "      <td>-1.3833</td>\n",
              "    </tr>\n",
              "    <tr>\n",
              "      <th>3</th>\n",
              "      <td>2.0</td>\n",
              "      <td>2.0</td>\n",
              "      <td>2.0</td>\n",
              "      <td>3.0</td>\n",
              "      <td>4.0</td>\n",
              "      <td>2.0</td>\n",
              "      <td>2.0</td>\n",
              "      <td>4.0</td>\n",
              "      <td>1.0</td>\n",
              "      <td>4.0</td>\n",
              "      <td>...</td>\n",
              "      <td>2016-03-03 02:02:02</td>\n",
              "      <td>1920.0</td>\n",
              "      <td>1200.0</td>\n",
              "      <td>186.0</td>\n",
              "      <td>219.0</td>\n",
              "      <td>7</td>\n",
              "      <td>1</td>\n",
              "      <td>GB</td>\n",
              "      <td>51.75</td>\n",
              "      <td>-1.25</td>\n",
              "    </tr>\n",
              "    <tr>\n",
              "      <th>4</th>\n",
              "      <td>3.0</td>\n",
              "      <td>3.0</td>\n",
              "      <td>3.0</td>\n",
              "      <td>3.0</td>\n",
              "      <td>5.0</td>\n",
              "      <td>3.0</td>\n",
              "      <td>3.0</td>\n",
              "      <td>5.0</td>\n",
              "      <td>3.0</td>\n",
              "      <td>4.0</td>\n",
              "      <td>...</td>\n",
              "      <td>2016-03-03 02:02:57</td>\n",
              "      <td>1366.0</td>\n",
              "      <td>768.0</td>\n",
              "      <td>8.0</td>\n",
              "      <td>315.0</td>\n",
              "      <td>17</td>\n",
              "      <td>2</td>\n",
              "      <td>KE</td>\n",
              "      <td>1.0</td>\n",
              "      <td>38.0</td>\n",
              "    </tr>\n",
              "  </tbody>\n",
              "</table>\n",
              "<p>5 rows × 110 columns</p>\n",
              "</div>\n",
              "    <div class=\"colab-df-buttons\">\n",
              "\n",
              "  <div class=\"colab-df-container\">\n",
              "    <button class=\"colab-df-convert\" onclick=\"convertToInteractive('df-dbdd45e0-5d13-46d6-871d-a071957962bd')\"\n",
              "            title=\"Convert this dataframe to an interactive table.\"\n",
              "            style=\"display:none;\">\n",
              "\n",
              "  <svg xmlns=\"http://www.w3.org/2000/svg\" height=\"24px\" viewBox=\"0 -960 960 960\">\n",
              "    <path d=\"M120-120v-720h720v720H120Zm60-500h600v-160H180v160Zm220 220h160v-160H400v160Zm0 220h160v-160H400v160ZM180-400h160v-160H180v160Zm440 0h160v-160H620v160ZM180-180h160v-160H180v160Zm440 0h160v-160H620v160Z\"/>\n",
              "  </svg>\n",
              "    </button>\n",
              "\n",
              "  <style>\n",
              "    .colab-df-container {\n",
              "      display:flex;\n",
              "      gap: 12px;\n",
              "    }\n",
              "\n",
              "    .colab-df-convert {\n",
              "      background-color: #E8F0FE;\n",
              "      border: none;\n",
              "      border-radius: 50%;\n",
              "      cursor: pointer;\n",
              "      display: none;\n",
              "      fill: #1967D2;\n",
              "      height: 32px;\n",
              "      padding: 0 0 0 0;\n",
              "      width: 32px;\n",
              "    }\n",
              "\n",
              "    .colab-df-convert:hover {\n",
              "      background-color: #E2EBFA;\n",
              "      box-shadow: 0px 1px 2px rgba(60, 64, 67, 0.3), 0px 1px 3px 1px rgba(60, 64, 67, 0.15);\n",
              "      fill: #174EA6;\n",
              "    }\n",
              "\n",
              "    .colab-df-buttons div {\n",
              "      margin-bottom: 4px;\n",
              "    }\n",
              "\n",
              "    [theme=dark] .colab-df-convert {\n",
              "      background-color: #3B4455;\n",
              "      fill: #D2E3FC;\n",
              "    }\n",
              "\n",
              "    [theme=dark] .colab-df-convert:hover {\n",
              "      background-color: #434B5C;\n",
              "      box-shadow: 0px 1px 3px 1px rgba(0, 0, 0, 0.15);\n",
              "      filter: drop-shadow(0px 1px 2px rgba(0, 0, 0, 0.3));\n",
              "      fill: #FFFFFF;\n",
              "    }\n",
              "  </style>\n",
              "\n",
              "    <script>\n",
              "      const buttonEl =\n",
              "        document.querySelector('#df-dbdd45e0-5d13-46d6-871d-a071957962bd button.colab-df-convert');\n",
              "      buttonEl.style.display =\n",
              "        google.colab.kernel.accessAllowed ? 'block' : 'none';\n",
              "\n",
              "      async function convertToInteractive(key) {\n",
              "        const element = document.querySelector('#df-dbdd45e0-5d13-46d6-871d-a071957962bd');\n",
              "        const dataTable =\n",
              "          await google.colab.kernel.invokeFunction('convertToInteractive',\n",
              "                                                    [key], {});\n",
              "        if (!dataTable) return;\n",
              "\n",
              "        const docLinkHtml = 'Like what you see? Visit the ' +\n",
              "          '<a target=\"_blank\" href=https://colab.research.google.com/notebooks/data_table.ipynb>data table notebook</a>'\n",
              "          + ' to learn more about interactive tables.';\n",
              "        element.innerHTML = '';\n",
              "        dataTable['output_type'] = 'display_data';\n",
              "        await google.colab.output.renderOutput(dataTable, element);\n",
              "        const docLink = document.createElement('div');\n",
              "        docLink.innerHTML = docLinkHtml;\n",
              "        element.appendChild(docLink);\n",
              "      }\n",
              "    </script>\n",
              "  </div>\n",
              "\n",
              "\n",
              "<div id=\"df-002bc4ad-2398-4077-8f9f-ec3d9260ab0f\">\n",
              "  <button class=\"colab-df-quickchart\" onclick=\"quickchart('df-002bc4ad-2398-4077-8f9f-ec3d9260ab0f')\"\n",
              "            title=\"Suggest charts\"\n",
              "            style=\"display:none;\">\n",
              "\n",
              "<svg xmlns=\"http://www.w3.org/2000/svg\" height=\"24px\"viewBox=\"0 0 24 24\"\n",
              "     width=\"24px\">\n",
              "    <g>\n",
              "        <path d=\"M19 3H5c-1.1 0-2 .9-2 2v14c0 1.1.9 2 2 2h14c1.1 0 2-.9 2-2V5c0-1.1-.9-2-2-2zM9 17H7v-7h2v7zm4 0h-2V7h2v10zm4 0h-2v-4h2v4z\"/>\n",
              "    </g>\n",
              "</svg>\n",
              "  </button>\n",
              "\n",
              "<style>\n",
              "  .colab-df-quickchart {\n",
              "      --bg-color: #E8F0FE;\n",
              "      --fill-color: #1967D2;\n",
              "      --hover-bg-color: #E2EBFA;\n",
              "      --hover-fill-color: #174EA6;\n",
              "      --disabled-fill-color: #AAA;\n",
              "      --disabled-bg-color: #DDD;\n",
              "  }\n",
              "\n",
              "  [theme=dark] .colab-df-quickchart {\n",
              "      --bg-color: #3B4455;\n",
              "      --fill-color: #D2E3FC;\n",
              "      --hover-bg-color: #434B5C;\n",
              "      --hover-fill-color: #FFFFFF;\n",
              "      --disabled-bg-color: #3B4455;\n",
              "      --disabled-fill-color: #666;\n",
              "  }\n",
              "\n",
              "  .colab-df-quickchart {\n",
              "    background-color: var(--bg-color);\n",
              "    border: none;\n",
              "    border-radius: 50%;\n",
              "    cursor: pointer;\n",
              "    display: none;\n",
              "    fill: var(--fill-color);\n",
              "    height: 32px;\n",
              "    padding: 0;\n",
              "    width: 32px;\n",
              "  }\n",
              "\n",
              "  .colab-df-quickchart:hover {\n",
              "    background-color: var(--hover-bg-color);\n",
              "    box-shadow: 0 1px 2px rgba(60, 64, 67, 0.3), 0 1px 3px 1px rgba(60, 64, 67, 0.15);\n",
              "    fill: var(--button-hover-fill-color);\n",
              "  }\n",
              "\n",
              "  .colab-df-quickchart-complete:disabled,\n",
              "  .colab-df-quickchart-complete:disabled:hover {\n",
              "    background-color: var(--disabled-bg-color);\n",
              "    fill: var(--disabled-fill-color);\n",
              "    box-shadow: none;\n",
              "  }\n",
              "\n",
              "  .colab-df-spinner {\n",
              "    border: 2px solid var(--fill-color);\n",
              "    border-color: transparent;\n",
              "    border-bottom-color: var(--fill-color);\n",
              "    animation:\n",
              "      spin 1s steps(1) infinite;\n",
              "  }\n",
              "\n",
              "  @keyframes spin {\n",
              "    0% {\n",
              "      border-color: transparent;\n",
              "      border-bottom-color: var(--fill-color);\n",
              "      border-left-color: var(--fill-color);\n",
              "    }\n",
              "    20% {\n",
              "      border-color: transparent;\n",
              "      border-left-color: var(--fill-color);\n",
              "      border-top-color: var(--fill-color);\n",
              "    }\n",
              "    30% {\n",
              "      border-color: transparent;\n",
              "      border-left-color: var(--fill-color);\n",
              "      border-top-color: var(--fill-color);\n",
              "      border-right-color: var(--fill-color);\n",
              "    }\n",
              "    40% {\n",
              "      border-color: transparent;\n",
              "      border-right-color: var(--fill-color);\n",
              "      border-top-color: var(--fill-color);\n",
              "    }\n",
              "    60% {\n",
              "      border-color: transparent;\n",
              "      border-right-color: var(--fill-color);\n",
              "    }\n",
              "    80% {\n",
              "      border-color: transparent;\n",
              "      border-right-color: var(--fill-color);\n",
              "      border-bottom-color: var(--fill-color);\n",
              "    }\n",
              "    90% {\n",
              "      border-color: transparent;\n",
              "      border-bottom-color: var(--fill-color);\n",
              "    }\n",
              "  }\n",
              "</style>\n",
              "\n",
              "  <script>\n",
              "    async function quickchart(key) {\n",
              "      const quickchartButtonEl =\n",
              "        document.querySelector('#' + key + ' button');\n",
              "      quickchartButtonEl.disabled = true;  // To prevent multiple clicks.\n",
              "      quickchartButtonEl.classList.add('colab-df-spinner');\n",
              "      try {\n",
              "        const charts = await google.colab.kernel.invokeFunction(\n",
              "            'suggestCharts', [key], {});\n",
              "      } catch (error) {\n",
              "        console.error('Error during call to suggestCharts:', error);\n",
              "      }\n",
              "      quickchartButtonEl.classList.remove('colab-df-spinner');\n",
              "      quickchartButtonEl.classList.add('colab-df-quickchart-complete');\n",
              "    }\n",
              "    (() => {\n",
              "      let quickchartButtonEl =\n",
              "        document.querySelector('#df-002bc4ad-2398-4077-8f9f-ec3d9260ab0f button');\n",
              "      quickchartButtonEl.style.display =\n",
              "        google.colab.kernel.accessAllowed ? 'block' : 'none';\n",
              "    })();\n",
              "  </script>\n",
              "</div>\n",
              "\n",
              "    </div>\n",
              "  </div>\n"
            ],
            "application/vnd.google.colaboratory.intrinsic+json": {
              "type": "dataframe",
              "variable_name": "data"
            }
          },
          "metadata": {},
          "execution_count": 3
        }
      ]
    },
    {
      "cell_type": "markdown",
      "source": [
        "## **3.2 Limpeza e Preparação dos Dados**"
      ],
      "metadata": {
        "id": "DTBCedwbAQNo"
      }
    },
    {
      "cell_type": "markdown",
      "source": [
        "Removemos colunas irrelevantes e filtramos os registros com valores inválidos."
      ],
      "metadata": {
        "id": "IXx2G3ZzATOZ"
      }
    },
    {
      "cell_type": "code",
      "source": [
        "data.drop(data.columns[50:110], axis=1, inplace=True)  # Este código remove as colunas irrelevantes do DataFrame, mantendo apenas as necessárias para a análise.\n",
        "data = data[(data > 0.00).all(axis=1)]  # Este código remove as linhas que contêm zeros em todas as colunas, mantendo apenas registros válidos.\n",
        "data.head()"
      ],
      "metadata": {
        "colab": {
          "base_uri": "https://localhost:8080/",
          "height": 236
        },
        "id": "7wMSVdDqAWSi",
        "outputId": "63d70f69-fb5f-4c90-97a0-d28b977d642c"
      },
      "execution_count": 4,
      "outputs": [
        {
          "output_type": "execute_result",
          "data": {
            "text/plain": [
              "   EXT1  EXT2  EXT3  EXT4  EXT5  EXT6  EXT7  EXT8  EXT9  EXT10  ...  OPN1  \\\n",
              "0   4.0   1.0   5.0   2.0   5.0   1.0   5.0   2.0   4.0    1.0  ...   5.0   \n",
              "1   3.0   5.0   3.0   4.0   3.0   3.0   2.0   5.0   1.0    5.0  ...   1.0   \n",
              "2   2.0   3.0   4.0   4.0   3.0   2.0   1.0   3.0   2.0    5.0  ...   5.0   \n",
              "3   2.0   2.0   2.0   3.0   4.0   2.0   2.0   4.0   1.0    4.0  ...   4.0   \n",
              "4   3.0   3.0   3.0   3.0   5.0   3.0   3.0   5.0   3.0    4.0  ...   5.0   \n",
              "\n",
              "   OPN2  OPN3  OPN4  OPN5  OPN6  OPN7  OPN8  OPN9  OPN10  \n",
              "0   1.0   4.0   1.0   4.0   1.0   5.0   3.0   4.0    5.0  \n",
              "1   2.0   4.0   2.0   3.0   1.0   4.0   2.0   5.0    3.0  \n",
              "2   1.0   2.0   1.0   4.0   2.0   5.0   3.0   4.0    4.0  \n",
              "3   2.0   5.0   2.0   3.0   1.0   4.0   4.0   3.0    3.0  \n",
              "4   1.0   5.0   1.0   5.0   1.0   5.0   3.0   5.0    5.0  \n",
              "\n",
              "[5 rows x 50 columns]"
            ],
            "text/html": [
              "\n",
              "  <div id=\"df-f4f87ed8-c1c6-4ba7-b375-6776f2d824a9\" class=\"colab-df-container\">\n",
              "    <div>\n",
              "<style scoped>\n",
              "    .dataframe tbody tr th:only-of-type {\n",
              "        vertical-align: middle;\n",
              "    }\n",
              "\n",
              "    .dataframe tbody tr th {\n",
              "        vertical-align: top;\n",
              "    }\n",
              "\n",
              "    .dataframe thead th {\n",
              "        text-align: right;\n",
              "    }\n",
              "</style>\n",
              "<table border=\"1\" class=\"dataframe\">\n",
              "  <thead>\n",
              "    <tr style=\"text-align: right;\">\n",
              "      <th></th>\n",
              "      <th>EXT1</th>\n",
              "      <th>EXT2</th>\n",
              "      <th>EXT3</th>\n",
              "      <th>EXT4</th>\n",
              "      <th>EXT5</th>\n",
              "      <th>EXT6</th>\n",
              "      <th>EXT7</th>\n",
              "      <th>EXT8</th>\n",
              "      <th>EXT9</th>\n",
              "      <th>EXT10</th>\n",
              "      <th>...</th>\n",
              "      <th>OPN1</th>\n",
              "      <th>OPN2</th>\n",
              "      <th>OPN3</th>\n",
              "      <th>OPN4</th>\n",
              "      <th>OPN5</th>\n",
              "      <th>OPN6</th>\n",
              "      <th>OPN7</th>\n",
              "      <th>OPN8</th>\n",
              "      <th>OPN9</th>\n",
              "      <th>OPN10</th>\n",
              "    </tr>\n",
              "  </thead>\n",
              "  <tbody>\n",
              "    <tr>\n",
              "      <th>0</th>\n",
              "      <td>4.0</td>\n",
              "      <td>1.0</td>\n",
              "      <td>5.0</td>\n",
              "      <td>2.0</td>\n",
              "      <td>5.0</td>\n",
              "      <td>1.0</td>\n",
              "      <td>5.0</td>\n",
              "      <td>2.0</td>\n",
              "      <td>4.0</td>\n",
              "      <td>1.0</td>\n",
              "      <td>...</td>\n",
              "      <td>5.0</td>\n",
              "      <td>1.0</td>\n",
              "      <td>4.0</td>\n",
              "      <td>1.0</td>\n",
              "      <td>4.0</td>\n",
              "      <td>1.0</td>\n",
              "      <td>5.0</td>\n",
              "      <td>3.0</td>\n",
              "      <td>4.0</td>\n",
              "      <td>5.0</td>\n",
              "    </tr>\n",
              "    <tr>\n",
              "      <th>1</th>\n",
              "      <td>3.0</td>\n",
              "      <td>5.0</td>\n",
              "      <td>3.0</td>\n",
              "      <td>4.0</td>\n",
              "      <td>3.0</td>\n",
              "      <td>3.0</td>\n",
              "      <td>2.0</td>\n",
              "      <td>5.0</td>\n",
              "      <td>1.0</td>\n",
              "      <td>5.0</td>\n",
              "      <td>...</td>\n",
              "      <td>1.0</td>\n",
              "      <td>2.0</td>\n",
              "      <td>4.0</td>\n",
              "      <td>2.0</td>\n",
              "      <td>3.0</td>\n",
              "      <td>1.0</td>\n",
              "      <td>4.0</td>\n",
              "      <td>2.0</td>\n",
              "      <td>5.0</td>\n",
              "      <td>3.0</td>\n",
              "    </tr>\n",
              "    <tr>\n",
              "      <th>2</th>\n",
              "      <td>2.0</td>\n",
              "      <td>3.0</td>\n",
              "      <td>4.0</td>\n",
              "      <td>4.0</td>\n",
              "      <td>3.0</td>\n",
              "      <td>2.0</td>\n",
              "      <td>1.0</td>\n",
              "      <td>3.0</td>\n",
              "      <td>2.0</td>\n",
              "      <td>5.0</td>\n",
              "      <td>...</td>\n",
              "      <td>5.0</td>\n",
              "      <td>1.0</td>\n",
              "      <td>2.0</td>\n",
              "      <td>1.0</td>\n",
              "      <td>4.0</td>\n",
              "      <td>2.0</td>\n",
              "      <td>5.0</td>\n",
              "      <td>3.0</td>\n",
              "      <td>4.0</td>\n",
              "      <td>4.0</td>\n",
              "    </tr>\n",
              "    <tr>\n",
              "      <th>3</th>\n",
              "      <td>2.0</td>\n",
              "      <td>2.0</td>\n",
              "      <td>2.0</td>\n",
              "      <td>3.0</td>\n",
              "      <td>4.0</td>\n",
              "      <td>2.0</td>\n",
              "      <td>2.0</td>\n",
              "      <td>4.0</td>\n",
              "      <td>1.0</td>\n",
              "      <td>4.0</td>\n",
              "      <td>...</td>\n",
              "      <td>4.0</td>\n",
              "      <td>2.0</td>\n",
              "      <td>5.0</td>\n",
              "      <td>2.0</td>\n",
              "      <td>3.0</td>\n",
              "      <td>1.0</td>\n",
              "      <td>4.0</td>\n",
              "      <td>4.0</td>\n",
              "      <td>3.0</td>\n",
              "      <td>3.0</td>\n",
              "    </tr>\n",
              "    <tr>\n",
              "      <th>4</th>\n",
              "      <td>3.0</td>\n",
              "      <td>3.0</td>\n",
              "      <td>3.0</td>\n",
              "      <td>3.0</td>\n",
              "      <td>5.0</td>\n",
              "      <td>3.0</td>\n",
              "      <td>3.0</td>\n",
              "      <td>5.0</td>\n",
              "      <td>3.0</td>\n",
              "      <td>4.0</td>\n",
              "      <td>...</td>\n",
              "      <td>5.0</td>\n",
              "      <td>1.0</td>\n",
              "      <td>5.0</td>\n",
              "      <td>1.0</td>\n",
              "      <td>5.0</td>\n",
              "      <td>1.0</td>\n",
              "      <td>5.0</td>\n",
              "      <td>3.0</td>\n",
              "      <td>5.0</td>\n",
              "      <td>5.0</td>\n",
              "    </tr>\n",
              "  </tbody>\n",
              "</table>\n",
              "<p>5 rows × 50 columns</p>\n",
              "</div>\n",
              "    <div class=\"colab-df-buttons\">\n",
              "\n",
              "  <div class=\"colab-df-container\">\n",
              "    <button class=\"colab-df-convert\" onclick=\"convertToInteractive('df-f4f87ed8-c1c6-4ba7-b375-6776f2d824a9')\"\n",
              "            title=\"Convert this dataframe to an interactive table.\"\n",
              "            style=\"display:none;\">\n",
              "\n",
              "  <svg xmlns=\"http://www.w3.org/2000/svg\" height=\"24px\" viewBox=\"0 -960 960 960\">\n",
              "    <path d=\"M120-120v-720h720v720H120Zm60-500h600v-160H180v160Zm220 220h160v-160H400v160Zm0 220h160v-160H400v160ZM180-400h160v-160H180v160Zm440 0h160v-160H620v160ZM180-180h160v-160H180v160Zm440 0h160v-160H620v160Z\"/>\n",
              "  </svg>\n",
              "    </button>\n",
              "\n",
              "  <style>\n",
              "    .colab-df-container {\n",
              "      display:flex;\n",
              "      gap: 12px;\n",
              "    }\n",
              "\n",
              "    .colab-df-convert {\n",
              "      background-color: #E8F0FE;\n",
              "      border: none;\n",
              "      border-radius: 50%;\n",
              "      cursor: pointer;\n",
              "      display: none;\n",
              "      fill: #1967D2;\n",
              "      height: 32px;\n",
              "      padding: 0 0 0 0;\n",
              "      width: 32px;\n",
              "    }\n",
              "\n",
              "    .colab-df-convert:hover {\n",
              "      background-color: #E2EBFA;\n",
              "      box-shadow: 0px 1px 2px rgba(60, 64, 67, 0.3), 0px 1px 3px 1px rgba(60, 64, 67, 0.15);\n",
              "      fill: #174EA6;\n",
              "    }\n",
              "\n",
              "    .colab-df-buttons div {\n",
              "      margin-bottom: 4px;\n",
              "    }\n",
              "\n",
              "    [theme=dark] .colab-df-convert {\n",
              "      background-color: #3B4455;\n",
              "      fill: #D2E3FC;\n",
              "    }\n",
              "\n",
              "    [theme=dark] .colab-df-convert:hover {\n",
              "      background-color: #434B5C;\n",
              "      box-shadow: 0px 1px 3px 1px rgba(0, 0, 0, 0.15);\n",
              "      filter: drop-shadow(0px 1px 2px rgba(0, 0, 0, 0.3));\n",
              "      fill: #FFFFFF;\n",
              "    }\n",
              "  </style>\n",
              "\n",
              "    <script>\n",
              "      const buttonEl =\n",
              "        document.querySelector('#df-f4f87ed8-c1c6-4ba7-b375-6776f2d824a9 button.colab-df-convert');\n",
              "      buttonEl.style.display =\n",
              "        google.colab.kernel.accessAllowed ? 'block' : 'none';\n",
              "\n",
              "      async function convertToInteractive(key) {\n",
              "        const element = document.querySelector('#df-f4f87ed8-c1c6-4ba7-b375-6776f2d824a9');\n",
              "        const dataTable =\n",
              "          await google.colab.kernel.invokeFunction('convertToInteractive',\n",
              "                                                    [key], {});\n",
              "        if (!dataTable) return;\n",
              "\n",
              "        const docLinkHtml = 'Like what you see? Visit the ' +\n",
              "          '<a target=\"_blank\" href=https://colab.research.google.com/notebooks/data_table.ipynb>data table notebook</a>'\n",
              "          + ' to learn more about interactive tables.';\n",
              "        element.innerHTML = '';\n",
              "        dataTable['output_type'] = 'display_data';\n",
              "        await google.colab.output.renderOutput(dataTable, element);\n",
              "        const docLink = document.createElement('div');\n",
              "        docLink.innerHTML = docLinkHtml;\n",
              "        element.appendChild(docLink);\n",
              "      }\n",
              "    </script>\n",
              "  </div>\n",
              "\n",
              "\n",
              "<div id=\"df-415fae7e-53f2-4b03-a5c7-a74d9c6481ad\">\n",
              "  <button class=\"colab-df-quickchart\" onclick=\"quickchart('df-415fae7e-53f2-4b03-a5c7-a74d9c6481ad')\"\n",
              "            title=\"Suggest charts\"\n",
              "            style=\"display:none;\">\n",
              "\n",
              "<svg xmlns=\"http://www.w3.org/2000/svg\" height=\"24px\"viewBox=\"0 0 24 24\"\n",
              "     width=\"24px\">\n",
              "    <g>\n",
              "        <path d=\"M19 3H5c-1.1 0-2 .9-2 2v14c0 1.1.9 2 2 2h14c1.1 0 2-.9 2-2V5c0-1.1-.9-2-2-2zM9 17H7v-7h2v7zm4 0h-2V7h2v10zm4 0h-2v-4h2v4z\"/>\n",
              "    </g>\n",
              "</svg>\n",
              "  </button>\n",
              "\n",
              "<style>\n",
              "  .colab-df-quickchart {\n",
              "      --bg-color: #E8F0FE;\n",
              "      --fill-color: #1967D2;\n",
              "      --hover-bg-color: #E2EBFA;\n",
              "      --hover-fill-color: #174EA6;\n",
              "      --disabled-fill-color: #AAA;\n",
              "      --disabled-bg-color: #DDD;\n",
              "  }\n",
              "\n",
              "  [theme=dark] .colab-df-quickchart {\n",
              "      --bg-color: #3B4455;\n",
              "      --fill-color: #D2E3FC;\n",
              "      --hover-bg-color: #434B5C;\n",
              "      --hover-fill-color: #FFFFFF;\n",
              "      --disabled-bg-color: #3B4455;\n",
              "      --disabled-fill-color: #666;\n",
              "  }\n",
              "\n",
              "  .colab-df-quickchart {\n",
              "    background-color: var(--bg-color);\n",
              "    border: none;\n",
              "    border-radius: 50%;\n",
              "    cursor: pointer;\n",
              "    display: none;\n",
              "    fill: var(--fill-color);\n",
              "    height: 32px;\n",
              "    padding: 0;\n",
              "    width: 32px;\n",
              "  }\n",
              "\n",
              "  .colab-df-quickchart:hover {\n",
              "    background-color: var(--hover-bg-color);\n",
              "    box-shadow: 0 1px 2px rgba(60, 64, 67, 0.3), 0 1px 3px 1px rgba(60, 64, 67, 0.15);\n",
              "    fill: var(--button-hover-fill-color);\n",
              "  }\n",
              "\n",
              "  .colab-df-quickchart-complete:disabled,\n",
              "  .colab-df-quickchart-complete:disabled:hover {\n",
              "    background-color: var(--disabled-bg-color);\n",
              "    fill: var(--disabled-fill-color);\n",
              "    box-shadow: none;\n",
              "  }\n",
              "\n",
              "  .colab-df-spinner {\n",
              "    border: 2px solid var(--fill-color);\n",
              "    border-color: transparent;\n",
              "    border-bottom-color: var(--fill-color);\n",
              "    animation:\n",
              "      spin 1s steps(1) infinite;\n",
              "  }\n",
              "\n",
              "  @keyframes spin {\n",
              "    0% {\n",
              "      border-color: transparent;\n",
              "      border-bottom-color: var(--fill-color);\n",
              "      border-left-color: var(--fill-color);\n",
              "    }\n",
              "    20% {\n",
              "      border-color: transparent;\n",
              "      border-left-color: var(--fill-color);\n",
              "      border-top-color: var(--fill-color);\n",
              "    }\n",
              "    30% {\n",
              "      border-color: transparent;\n",
              "      border-left-color: var(--fill-color);\n",
              "      border-top-color: var(--fill-color);\n",
              "      border-right-color: var(--fill-color);\n",
              "    }\n",
              "    40% {\n",
              "      border-color: transparent;\n",
              "      border-right-color: var(--fill-color);\n",
              "      border-top-color: var(--fill-color);\n",
              "    }\n",
              "    60% {\n",
              "      border-color: transparent;\n",
              "      border-right-color: var(--fill-color);\n",
              "    }\n",
              "    80% {\n",
              "      border-color: transparent;\n",
              "      border-right-color: var(--fill-color);\n",
              "      border-bottom-color: var(--fill-color);\n",
              "    }\n",
              "    90% {\n",
              "      border-color: transparent;\n",
              "      border-bottom-color: var(--fill-color);\n",
              "    }\n",
              "  }\n",
              "</style>\n",
              "\n",
              "  <script>\n",
              "    async function quickchart(key) {\n",
              "      const quickchartButtonEl =\n",
              "        document.querySelector('#' + key + ' button');\n",
              "      quickchartButtonEl.disabled = true;  // To prevent multiple clicks.\n",
              "      quickchartButtonEl.classList.add('colab-df-spinner');\n",
              "      try {\n",
              "        const charts = await google.colab.kernel.invokeFunction(\n",
              "            'suggestCharts', [key], {});\n",
              "      } catch (error) {\n",
              "        console.error('Error during call to suggestCharts:', error);\n",
              "      }\n",
              "      quickchartButtonEl.classList.remove('colab-df-spinner');\n",
              "      quickchartButtonEl.classList.add('colab-df-quickchart-complete');\n",
              "    }\n",
              "    (() => {\n",
              "      let quickchartButtonEl =\n",
              "        document.querySelector('#df-415fae7e-53f2-4b03-a5c7-a74d9c6481ad button');\n",
              "      quickchartButtonEl.style.display =\n",
              "        google.colab.kernel.accessAllowed ? 'block' : 'none';\n",
              "    })();\n",
              "  </script>\n",
              "</div>\n",
              "\n",
              "    </div>\n",
              "  </div>\n"
            ],
            "application/vnd.google.colaboratory.intrinsic+json": {
              "type": "dataframe",
              "variable_name": "data"
            }
          },
          "metadata": {},
          "execution_count": 4
        }
      ]
    },
    {
      "cell_type": "markdown",
      "source": [
        "## **3.3 Análise Estatística**"
      ],
      "metadata": {
        "id": "P_01rGwqAYOI"
      }
    },
    {
      "cell_type": "markdown",
      "source": [
        "Calculamos estatísticas descritivas básicas para entender a distribuição dos dados."
      ],
      "metadata": {
        "id": "nKKneTtkAbj6"
      }
    },
    {
      "cell_type": "code",
      "source": [
        "# Este código gera uma visão geral dos dados, incluindo média, desvio padrão, e os valores mínimo e máximo para cada coluna.\n",
        "data.describe()"
      ],
      "metadata": {
        "colab": {
          "base_uri": "https://localhost:8080/",
          "height": 350
        },
        "id": "WvkkUk6dAewv",
        "outputId": "f36cba71-d35f-41a7-cd05-ffb9eaa242f5"
      },
      "execution_count": 5,
      "outputs": [
        {
          "output_type": "execute_result",
          "data": {
            "text/plain": [
              "                EXT1           EXT2           EXT3           EXT4  \\\n",
              "count  874434.000000  874434.000000  874434.000000  874434.000000   \n",
              "mean        2.645693       2.795889       3.298964       3.167806   \n",
              "std         1.250871       1.306720       1.188259       1.210432   \n",
              "min         1.000000       1.000000       1.000000       1.000000   \n",
              "25%         2.000000       2.000000       2.000000       2.000000   \n",
              "50%         3.000000       3.000000       3.000000       3.000000   \n",
              "75%         4.000000       4.000000       4.000000       4.000000   \n",
              "max         5.000000       5.000000       5.000000       5.000000   \n",
              "\n",
              "                EXT5           EXT6           EXT7           EXT8  \\\n",
              "count  874434.000000  874434.000000  874434.000000  874434.000000   \n",
              "mean        3.297512       2.411223       2.780479       3.443987   \n",
              "std         1.239669       1.208842       1.380444       1.242385   \n",
              "min         1.000000       1.000000       1.000000       1.000000   \n",
              "25%         2.000000       1.000000       2.000000       2.000000   \n",
              "50%         3.000000       2.000000       3.000000       4.000000   \n",
              "75%         4.000000       3.000000       4.000000       4.000000   \n",
              "max         5.000000       5.000000       5.000000       5.000000   \n",
              "\n",
              "                EXT9          EXT10  ...           OPN1          OPN2  \\\n",
              "count  874434.000000  874434.000000  ...  874434.000000  874434.00000   \n",
              "mean        2.979535       3.588282  ...       3.703026       2.07053   \n",
              "std         1.325278       1.274354  ...       1.100078       1.09506   \n",
              "min         1.000000       1.000000  ...       1.000000       1.00000   \n",
              "25%         2.000000       3.000000  ...       3.000000       1.00000   \n",
              "50%         3.000000       4.000000  ...       4.000000       2.00000   \n",
              "75%         4.000000       5.000000  ...       5.000000       3.00000   \n",
              "max         5.000000       5.000000  ...       5.000000       5.00000   \n",
              "\n",
              "                OPN3           OPN4           OPN5           OPN6  \\\n",
              "count  874434.000000  874434.000000  874434.000000  874434.000000   \n",
              "mean        4.035008       1.995491       3.824307       1.901202   \n",
              "std         1.040036       1.071258       0.933451       1.084797   \n",
              "min         1.000000       1.000000       1.000000       1.000000   \n",
              "25%         3.000000       1.000000       3.000000       1.000000   \n",
              "50%         4.000000       2.000000       4.000000       2.000000   \n",
              "75%         5.000000       3.000000       5.000000       2.000000   \n",
              "max         5.000000       5.000000       5.000000       5.000000   \n",
              "\n",
              "                OPN7           OPN8           OPN9          OPN10  \n",
              "count  874434.000000  874434.000000  874434.000000  874434.000000  \n",
              "mean        4.022261       3.221340       4.166739       3.983939  \n",
              "std         0.935574       1.222737       0.971584       0.986196  \n",
              "min         1.000000       1.000000       1.000000       1.000000  \n",
              "25%         4.000000       2.000000       4.000000       3.000000  \n",
              "50%         4.000000       3.000000       4.000000       4.000000  \n",
              "75%         5.000000       4.000000       5.000000       5.000000  \n",
              "max         5.000000       5.000000       5.000000       5.000000  \n",
              "\n",
              "[8 rows x 50 columns]"
            ],
            "text/html": [
              "\n",
              "  <div id=\"df-034258f6-16fa-4dc8-a782-5fb1b959431c\" class=\"colab-df-container\">\n",
              "    <div>\n",
              "<style scoped>\n",
              "    .dataframe tbody tr th:only-of-type {\n",
              "        vertical-align: middle;\n",
              "    }\n",
              "\n",
              "    .dataframe tbody tr th {\n",
              "        vertical-align: top;\n",
              "    }\n",
              "\n",
              "    .dataframe thead th {\n",
              "        text-align: right;\n",
              "    }\n",
              "</style>\n",
              "<table border=\"1\" class=\"dataframe\">\n",
              "  <thead>\n",
              "    <tr style=\"text-align: right;\">\n",
              "      <th></th>\n",
              "      <th>EXT1</th>\n",
              "      <th>EXT2</th>\n",
              "      <th>EXT3</th>\n",
              "      <th>EXT4</th>\n",
              "      <th>EXT5</th>\n",
              "      <th>EXT6</th>\n",
              "      <th>EXT7</th>\n",
              "      <th>EXT8</th>\n",
              "      <th>EXT9</th>\n",
              "      <th>EXT10</th>\n",
              "      <th>...</th>\n",
              "      <th>OPN1</th>\n",
              "      <th>OPN2</th>\n",
              "      <th>OPN3</th>\n",
              "      <th>OPN4</th>\n",
              "      <th>OPN5</th>\n",
              "      <th>OPN6</th>\n",
              "      <th>OPN7</th>\n",
              "      <th>OPN8</th>\n",
              "      <th>OPN9</th>\n",
              "      <th>OPN10</th>\n",
              "    </tr>\n",
              "  </thead>\n",
              "  <tbody>\n",
              "    <tr>\n",
              "      <th>count</th>\n",
              "      <td>874434.000000</td>\n",
              "      <td>874434.000000</td>\n",
              "      <td>874434.000000</td>\n",
              "      <td>874434.000000</td>\n",
              "      <td>874434.000000</td>\n",
              "      <td>874434.000000</td>\n",
              "      <td>874434.000000</td>\n",
              "      <td>874434.000000</td>\n",
              "      <td>874434.000000</td>\n",
              "      <td>874434.000000</td>\n",
              "      <td>...</td>\n",
              "      <td>874434.000000</td>\n",
              "      <td>874434.00000</td>\n",
              "      <td>874434.000000</td>\n",
              "      <td>874434.000000</td>\n",
              "      <td>874434.000000</td>\n",
              "      <td>874434.000000</td>\n",
              "      <td>874434.000000</td>\n",
              "      <td>874434.000000</td>\n",
              "      <td>874434.000000</td>\n",
              "      <td>874434.000000</td>\n",
              "    </tr>\n",
              "    <tr>\n",
              "      <th>mean</th>\n",
              "      <td>2.645693</td>\n",
              "      <td>2.795889</td>\n",
              "      <td>3.298964</td>\n",
              "      <td>3.167806</td>\n",
              "      <td>3.297512</td>\n",
              "      <td>2.411223</td>\n",
              "      <td>2.780479</td>\n",
              "      <td>3.443987</td>\n",
              "      <td>2.979535</td>\n",
              "      <td>3.588282</td>\n",
              "      <td>...</td>\n",
              "      <td>3.703026</td>\n",
              "      <td>2.07053</td>\n",
              "      <td>4.035008</td>\n",
              "      <td>1.995491</td>\n",
              "      <td>3.824307</td>\n",
              "      <td>1.901202</td>\n",
              "      <td>4.022261</td>\n",
              "      <td>3.221340</td>\n",
              "      <td>4.166739</td>\n",
              "      <td>3.983939</td>\n",
              "    </tr>\n",
              "    <tr>\n",
              "      <th>std</th>\n",
              "      <td>1.250871</td>\n",
              "      <td>1.306720</td>\n",
              "      <td>1.188259</td>\n",
              "      <td>1.210432</td>\n",
              "      <td>1.239669</td>\n",
              "      <td>1.208842</td>\n",
              "      <td>1.380444</td>\n",
              "      <td>1.242385</td>\n",
              "      <td>1.325278</td>\n",
              "      <td>1.274354</td>\n",
              "      <td>...</td>\n",
              "      <td>1.100078</td>\n",
              "      <td>1.09506</td>\n",
              "      <td>1.040036</td>\n",
              "      <td>1.071258</td>\n",
              "      <td>0.933451</td>\n",
              "      <td>1.084797</td>\n",
              "      <td>0.935574</td>\n",
              "      <td>1.222737</td>\n",
              "      <td>0.971584</td>\n",
              "      <td>0.986196</td>\n",
              "    </tr>\n",
              "    <tr>\n",
              "      <th>min</th>\n",
              "      <td>1.000000</td>\n",
              "      <td>1.000000</td>\n",
              "      <td>1.000000</td>\n",
              "      <td>1.000000</td>\n",
              "      <td>1.000000</td>\n",
              "      <td>1.000000</td>\n",
              "      <td>1.000000</td>\n",
              "      <td>1.000000</td>\n",
              "      <td>1.000000</td>\n",
              "      <td>1.000000</td>\n",
              "      <td>...</td>\n",
              "      <td>1.000000</td>\n",
              "      <td>1.00000</td>\n",
              "      <td>1.000000</td>\n",
              "      <td>1.000000</td>\n",
              "      <td>1.000000</td>\n",
              "      <td>1.000000</td>\n",
              "      <td>1.000000</td>\n",
              "      <td>1.000000</td>\n",
              "      <td>1.000000</td>\n",
              "      <td>1.000000</td>\n",
              "    </tr>\n",
              "    <tr>\n",
              "      <th>25%</th>\n",
              "      <td>2.000000</td>\n",
              "      <td>2.000000</td>\n",
              "      <td>2.000000</td>\n",
              "      <td>2.000000</td>\n",
              "      <td>2.000000</td>\n",
              "      <td>1.000000</td>\n",
              "      <td>2.000000</td>\n",
              "      <td>2.000000</td>\n",
              "      <td>2.000000</td>\n",
              "      <td>3.000000</td>\n",
              "      <td>...</td>\n",
              "      <td>3.000000</td>\n",
              "      <td>1.00000</td>\n",
              "      <td>3.000000</td>\n",
              "      <td>1.000000</td>\n",
              "      <td>3.000000</td>\n",
              "      <td>1.000000</td>\n",
              "      <td>4.000000</td>\n",
              "      <td>2.000000</td>\n",
              "      <td>4.000000</td>\n",
              "      <td>3.000000</td>\n",
              "    </tr>\n",
              "    <tr>\n",
              "      <th>50%</th>\n",
              "      <td>3.000000</td>\n",
              "      <td>3.000000</td>\n",
              "      <td>3.000000</td>\n",
              "      <td>3.000000</td>\n",
              "      <td>3.000000</td>\n",
              "      <td>2.000000</td>\n",
              "      <td>3.000000</td>\n",
              "      <td>4.000000</td>\n",
              "      <td>3.000000</td>\n",
              "      <td>4.000000</td>\n",
              "      <td>...</td>\n",
              "      <td>4.000000</td>\n",
              "      <td>2.00000</td>\n",
              "      <td>4.000000</td>\n",
              "      <td>2.000000</td>\n",
              "      <td>4.000000</td>\n",
              "      <td>2.000000</td>\n",
              "      <td>4.000000</td>\n",
              "      <td>3.000000</td>\n",
              "      <td>4.000000</td>\n",
              "      <td>4.000000</td>\n",
              "    </tr>\n",
              "    <tr>\n",
              "      <th>75%</th>\n",
              "      <td>4.000000</td>\n",
              "      <td>4.000000</td>\n",
              "      <td>4.000000</td>\n",
              "      <td>4.000000</td>\n",
              "      <td>4.000000</td>\n",
              "      <td>3.000000</td>\n",
              "      <td>4.000000</td>\n",
              "      <td>4.000000</td>\n",
              "      <td>4.000000</td>\n",
              "      <td>5.000000</td>\n",
              "      <td>...</td>\n",
              "      <td>5.000000</td>\n",
              "      <td>3.00000</td>\n",
              "      <td>5.000000</td>\n",
              "      <td>3.000000</td>\n",
              "      <td>5.000000</td>\n",
              "      <td>2.000000</td>\n",
              "      <td>5.000000</td>\n",
              "      <td>4.000000</td>\n",
              "      <td>5.000000</td>\n",
              "      <td>5.000000</td>\n",
              "    </tr>\n",
              "    <tr>\n",
              "      <th>max</th>\n",
              "      <td>5.000000</td>\n",
              "      <td>5.000000</td>\n",
              "      <td>5.000000</td>\n",
              "      <td>5.000000</td>\n",
              "      <td>5.000000</td>\n",
              "      <td>5.000000</td>\n",
              "      <td>5.000000</td>\n",
              "      <td>5.000000</td>\n",
              "      <td>5.000000</td>\n",
              "      <td>5.000000</td>\n",
              "      <td>...</td>\n",
              "      <td>5.000000</td>\n",
              "      <td>5.00000</td>\n",
              "      <td>5.000000</td>\n",
              "      <td>5.000000</td>\n",
              "      <td>5.000000</td>\n",
              "      <td>5.000000</td>\n",
              "      <td>5.000000</td>\n",
              "      <td>5.000000</td>\n",
              "      <td>5.000000</td>\n",
              "      <td>5.000000</td>\n",
              "    </tr>\n",
              "  </tbody>\n",
              "</table>\n",
              "<p>8 rows × 50 columns</p>\n",
              "</div>\n",
              "    <div class=\"colab-df-buttons\">\n",
              "\n",
              "  <div class=\"colab-df-container\">\n",
              "    <button class=\"colab-df-convert\" onclick=\"convertToInteractive('df-034258f6-16fa-4dc8-a782-5fb1b959431c')\"\n",
              "            title=\"Convert this dataframe to an interactive table.\"\n",
              "            style=\"display:none;\">\n",
              "\n",
              "  <svg xmlns=\"http://www.w3.org/2000/svg\" height=\"24px\" viewBox=\"0 -960 960 960\">\n",
              "    <path d=\"M120-120v-720h720v720H120Zm60-500h600v-160H180v160Zm220 220h160v-160H400v160Zm0 220h160v-160H400v160ZM180-400h160v-160H180v160Zm440 0h160v-160H620v160ZM180-180h160v-160H180v160Zm440 0h160v-160H620v160Z\"/>\n",
              "  </svg>\n",
              "    </button>\n",
              "\n",
              "  <style>\n",
              "    .colab-df-container {\n",
              "      display:flex;\n",
              "      gap: 12px;\n",
              "    }\n",
              "\n",
              "    .colab-df-convert {\n",
              "      background-color: #E8F0FE;\n",
              "      border: none;\n",
              "      border-radius: 50%;\n",
              "      cursor: pointer;\n",
              "      display: none;\n",
              "      fill: #1967D2;\n",
              "      height: 32px;\n",
              "      padding: 0 0 0 0;\n",
              "      width: 32px;\n",
              "    }\n",
              "\n",
              "    .colab-df-convert:hover {\n",
              "      background-color: #E2EBFA;\n",
              "      box-shadow: 0px 1px 2px rgba(60, 64, 67, 0.3), 0px 1px 3px 1px rgba(60, 64, 67, 0.15);\n",
              "      fill: #174EA6;\n",
              "    }\n",
              "\n",
              "    .colab-df-buttons div {\n",
              "      margin-bottom: 4px;\n",
              "    }\n",
              "\n",
              "    [theme=dark] .colab-df-convert {\n",
              "      background-color: #3B4455;\n",
              "      fill: #D2E3FC;\n",
              "    }\n",
              "\n",
              "    [theme=dark] .colab-df-convert:hover {\n",
              "      background-color: #434B5C;\n",
              "      box-shadow: 0px 1px 3px 1px rgba(0, 0, 0, 0.15);\n",
              "      filter: drop-shadow(0px 1px 2px rgba(0, 0, 0, 0.3));\n",
              "      fill: #FFFFFF;\n",
              "    }\n",
              "  </style>\n",
              "\n",
              "    <script>\n",
              "      const buttonEl =\n",
              "        document.querySelector('#df-034258f6-16fa-4dc8-a782-5fb1b959431c button.colab-df-convert');\n",
              "      buttonEl.style.display =\n",
              "        google.colab.kernel.accessAllowed ? 'block' : 'none';\n",
              "\n",
              "      async function convertToInteractive(key) {\n",
              "        const element = document.querySelector('#df-034258f6-16fa-4dc8-a782-5fb1b959431c');\n",
              "        const dataTable =\n",
              "          await google.colab.kernel.invokeFunction('convertToInteractive',\n",
              "                                                    [key], {});\n",
              "        if (!dataTable) return;\n",
              "\n",
              "        const docLinkHtml = 'Like what you see? Visit the ' +\n",
              "          '<a target=\"_blank\" href=https://colab.research.google.com/notebooks/data_table.ipynb>data table notebook</a>'\n",
              "          + ' to learn more about interactive tables.';\n",
              "        element.innerHTML = '';\n",
              "        dataTable['output_type'] = 'display_data';\n",
              "        await google.colab.output.renderOutput(dataTable, element);\n",
              "        const docLink = document.createElement('div');\n",
              "        docLink.innerHTML = docLinkHtml;\n",
              "        element.appendChild(docLink);\n",
              "      }\n",
              "    </script>\n",
              "  </div>\n",
              "\n",
              "\n",
              "<div id=\"df-dd57b234-3ef6-4da2-a750-15c77c992925\">\n",
              "  <button class=\"colab-df-quickchart\" onclick=\"quickchart('df-dd57b234-3ef6-4da2-a750-15c77c992925')\"\n",
              "            title=\"Suggest charts\"\n",
              "            style=\"display:none;\">\n",
              "\n",
              "<svg xmlns=\"http://www.w3.org/2000/svg\" height=\"24px\"viewBox=\"0 0 24 24\"\n",
              "     width=\"24px\">\n",
              "    <g>\n",
              "        <path d=\"M19 3H5c-1.1 0-2 .9-2 2v14c0 1.1.9 2 2 2h14c1.1 0 2-.9 2-2V5c0-1.1-.9-2-2-2zM9 17H7v-7h2v7zm4 0h-2V7h2v10zm4 0h-2v-4h2v4z\"/>\n",
              "    </g>\n",
              "</svg>\n",
              "  </button>\n",
              "\n",
              "<style>\n",
              "  .colab-df-quickchart {\n",
              "      --bg-color: #E8F0FE;\n",
              "      --fill-color: #1967D2;\n",
              "      --hover-bg-color: #E2EBFA;\n",
              "      --hover-fill-color: #174EA6;\n",
              "      --disabled-fill-color: #AAA;\n",
              "      --disabled-bg-color: #DDD;\n",
              "  }\n",
              "\n",
              "  [theme=dark] .colab-df-quickchart {\n",
              "      --bg-color: #3B4455;\n",
              "      --fill-color: #D2E3FC;\n",
              "      --hover-bg-color: #434B5C;\n",
              "      --hover-fill-color: #FFFFFF;\n",
              "      --disabled-bg-color: #3B4455;\n",
              "      --disabled-fill-color: #666;\n",
              "  }\n",
              "\n",
              "  .colab-df-quickchart {\n",
              "    background-color: var(--bg-color);\n",
              "    border: none;\n",
              "    border-radius: 50%;\n",
              "    cursor: pointer;\n",
              "    display: none;\n",
              "    fill: var(--fill-color);\n",
              "    height: 32px;\n",
              "    padding: 0;\n",
              "    width: 32px;\n",
              "  }\n",
              "\n",
              "  .colab-df-quickchart:hover {\n",
              "    background-color: var(--hover-bg-color);\n",
              "    box-shadow: 0 1px 2px rgba(60, 64, 67, 0.3), 0 1px 3px 1px rgba(60, 64, 67, 0.15);\n",
              "    fill: var(--button-hover-fill-color);\n",
              "  }\n",
              "\n",
              "  .colab-df-quickchart-complete:disabled,\n",
              "  .colab-df-quickchart-complete:disabled:hover {\n",
              "    background-color: var(--disabled-bg-color);\n",
              "    fill: var(--disabled-fill-color);\n",
              "    box-shadow: none;\n",
              "  }\n",
              "\n",
              "  .colab-df-spinner {\n",
              "    border: 2px solid var(--fill-color);\n",
              "    border-color: transparent;\n",
              "    border-bottom-color: var(--fill-color);\n",
              "    animation:\n",
              "      spin 1s steps(1) infinite;\n",
              "  }\n",
              "\n",
              "  @keyframes spin {\n",
              "    0% {\n",
              "      border-color: transparent;\n",
              "      border-bottom-color: var(--fill-color);\n",
              "      border-left-color: var(--fill-color);\n",
              "    }\n",
              "    20% {\n",
              "      border-color: transparent;\n",
              "      border-left-color: var(--fill-color);\n",
              "      border-top-color: var(--fill-color);\n",
              "    }\n",
              "    30% {\n",
              "      border-color: transparent;\n",
              "      border-left-color: var(--fill-color);\n",
              "      border-top-color: var(--fill-color);\n",
              "      border-right-color: var(--fill-color);\n",
              "    }\n",
              "    40% {\n",
              "      border-color: transparent;\n",
              "      border-right-color: var(--fill-color);\n",
              "      border-top-color: var(--fill-color);\n",
              "    }\n",
              "    60% {\n",
              "      border-color: transparent;\n",
              "      border-right-color: var(--fill-color);\n",
              "    }\n",
              "    80% {\n",
              "      border-color: transparent;\n",
              "      border-right-color: var(--fill-color);\n",
              "      border-bottom-color: var(--fill-color);\n",
              "    }\n",
              "    90% {\n",
              "      border-color: transparent;\n",
              "      border-bottom-color: var(--fill-color);\n",
              "    }\n",
              "  }\n",
              "</style>\n",
              "\n",
              "  <script>\n",
              "    async function quickchart(key) {\n",
              "      const quickchartButtonEl =\n",
              "        document.querySelector('#' + key + ' button');\n",
              "      quickchartButtonEl.disabled = true;  // To prevent multiple clicks.\n",
              "      quickchartButtonEl.classList.add('colab-df-spinner');\n",
              "      try {\n",
              "        const charts = await google.colab.kernel.invokeFunction(\n",
              "            'suggestCharts', [key], {});\n",
              "      } catch (error) {\n",
              "        console.error('Error during call to suggestCharts:', error);\n",
              "      }\n",
              "      quickchartButtonEl.classList.remove('colab-df-spinner');\n",
              "      quickchartButtonEl.classList.add('colab-df-quickchart-complete');\n",
              "    }\n",
              "    (() => {\n",
              "      let quickchartButtonEl =\n",
              "        document.querySelector('#df-dd57b234-3ef6-4da2-a750-15c77c992925 button');\n",
              "      quickchartButtonEl.style.display =\n",
              "        google.colab.kernel.accessAllowed ? 'block' : 'none';\n",
              "    })();\n",
              "  </script>\n",
              "</div>\n",
              "\n",
              "    </div>\n",
              "  </div>\n"
            ],
            "application/vnd.google.colaboratory.intrinsic+json": {
              "type": "dataframe"
            }
          },
          "metadata": {},
          "execution_count": 5
        }
      ]
    },
    {
      "cell_type": "markdown",
      "source": [
        "# **4. Manipulação de Dados**"
      ],
      "metadata": {
        "id": "2w1dqC9UAk8V"
      }
    },
    {
      "cell_type": "markdown",
      "source": [
        "## **4.1 Criação de Clusters**"
      ],
      "metadata": {
        "id": "qyj5KPV2AptS"
      }
    },
    {
      "cell_type": "markdown",
      "source": [
        "Usamos KMeans para agrupar os dados em clusters de personalidades semelhantes."
      ],
      "metadata": {
        "id": "cTu2s2eAAtdY"
      }
    },
    {
      "cell_type": "code",
      "source": [
        "# Configurando o K-Means com 5 clusters e definindo explicitamente n_init para evitar o aviso\n",
        "kmeans = KMeans(n_clusters=5, n_init=10, random_state=42)  # n_init=10 é definido explicitamente\n",
        "k_fit = kmeans.fit(data)  # Ajusta o modelo K-Means aos dados\n",
        "data['Clusters'] = k_fit.labels_  # Adiciona os rótulos dos clusters ao DataFrame original"
      ],
      "metadata": {
        "id": "rnP3YotXAvZ3"
      },
      "execution_count": 6,
      "outputs": []
    },
    {
      "cell_type": "markdown",
      "source": [
        "Calculamos a média dos traços de personalidade em cada cluster."
      ],
      "metadata": {
        "id": "ysj43RjXAwlL"
      }
    },
    {
      "cell_type": "code",
      "source": [
        "data.groupby('Clusters').mean()  # Este código calcula a média dos traços de personalidade para cada cluster, ajudando a identificar as características predominantes em cada grupo.\n",
        "data = data[(data > 0.00).all(axis=1)]  # Este código remove as linhas que contêm zeros em todas as colunas, mantendo apenas registros válidos.\n"
      ],
      "metadata": {
        "id": "LLMwPBbCAyUt"
      },
      "execution_count": 7,
      "outputs": []
    },
    {
      "cell_type": "markdown",
      "source": [
        "## **4.2 Refinamento dos Clusters**"
      ],
      "metadata": {
        "id": "0JfCIt9_A1sD"
      }
    },
    {
      "cell_type": "markdown",
      "source": [
        "###  **4.2.1 Análise de Distribuição de Clusters**"
      ],
      "metadata": {
        "id": "DECGOVKFA5fz"
      }
    },
    {
      "cell_type": "markdown",
      "source": [
        "Antes de tomar decisões baseadas nos clusters gerados, é útil analisar a distribuição dos dados em cada cluster. Isso ajuda a entender se os clusters são equilibrados ou se há necessidade de ajustes."
      ],
      "metadata": {
        "id": "Tavb1yGQA8vA"
      }
    },
    {
      "cell_type": "code",
      "source": [
        "data['Clusters'].value_counts()  # Conta o número de elementos em cada cluster para análise de distribuição."
      ],
      "metadata": {
        "colab": {
          "base_uri": "https://localhost:8080/",
          "height": 241
        },
        "id": "CjXWA06xA_9y",
        "outputId": "c0a8dfbb-49bc-41a6-bce9-35dfa7ef2b2e"
      },
      "execution_count": 8,
      "outputs": [
        {
          "output_type": "execute_result",
          "data": {
            "text/plain": [
              "Clusters\n",
              "3    182866\n",
              "2    180941\n",
              "1    169722\n",
              "4    147901\n",
              "Name: count, dtype: int64"
            ],
            "text/html": [
              "<div>\n",
              "<style scoped>\n",
              "    .dataframe tbody tr th:only-of-type {\n",
              "        vertical-align: middle;\n",
              "    }\n",
              "\n",
              "    .dataframe tbody tr th {\n",
              "        vertical-align: top;\n",
              "    }\n",
              "\n",
              "    .dataframe thead th {\n",
              "        text-align: right;\n",
              "    }\n",
              "</style>\n",
              "<table border=\"1\" class=\"dataframe\">\n",
              "  <thead>\n",
              "    <tr style=\"text-align: right;\">\n",
              "      <th></th>\n",
              "      <th>count</th>\n",
              "    </tr>\n",
              "    <tr>\n",
              "      <th>Clusters</th>\n",
              "      <th></th>\n",
              "    </tr>\n",
              "  </thead>\n",
              "  <tbody>\n",
              "    <tr>\n",
              "      <th>3</th>\n",
              "      <td>182866</td>\n",
              "    </tr>\n",
              "    <tr>\n",
              "      <th>2</th>\n",
              "      <td>180941</td>\n",
              "    </tr>\n",
              "    <tr>\n",
              "      <th>1</th>\n",
              "      <td>169722</td>\n",
              "    </tr>\n",
              "    <tr>\n",
              "      <th>4</th>\n",
              "      <td>147901</td>\n",
              "    </tr>\n",
              "  </tbody>\n",
              "</table>\n",
              "</div><br><label><b>dtype:</b> int64</label>"
            ]
          },
          "metadata": {},
          "execution_count": 8
        }
      ]
    },
    {
      "cell_type": "markdown",
      "source": [
        "### **4.2.2 Otimização dos Clusters com PCA**"
      ],
      "metadata": {
        "id": "Husc0weaBDuk"
      }
    },
    {
      "cell_type": "markdown",
      "source": [
        "Para melhorar a separação entre os clusters, você pode usar Análise de Componentes Principais (PCA) para reduzir a dimensionalidade dos dados antes de aplicar o K-Means."
      ],
      "metadata": {
        "id": "S2zpMZeSBG9o"
      }
    },
    {
      "cell_type": "code",
      "source": [
        "# Redução da dimensionalidade com PCA\n",
        "pca = PCA(n_components=2)\n",
        "data_pca = pca.fit_transform(data)\n",
        "\n",
        "# Aplicação de K-Means nos dados transformados, com n_init explicitamente definido\n",
        "kmeans = KMeans(n_clusters=5, n_init=10, random_state=42)  # Inclui n_init para suprimir o aviso\n",
        "data['Clusters_PCA'] = kmeans.fit_predict(data_pca)"
      ],
      "metadata": {
        "id": "T9ce33ifBJHg"
      },
      "execution_count": 9,
      "outputs": []
    },
    {
      "cell_type": "markdown",
      "source": [
        "## **4.3 Análise de Outliers**"
      ],
      "metadata": {
        "id": "GmY92yYOBLpr"
      }
    },
    {
      "cell_type": "markdown",
      "source": [
        "A presença de outliers pode afetar negativamente a performance do K-Means. É importante identificar e tratar esses pontos antes de realizar a clusterização."
      ],
      "metadata": {
        "id": "Dny0JDVgBQra"
      }
    },
    {
      "cell_type": "code",
      "source": [
        "iso = IsolationForest(contamination=0.01, random_state=42)  # Configura o Isolation Forest com 1% de contaminação.\n",
        "yhat = iso.fit_predict(data)  # Prediz quais pontos são outliers.\n",
        "mask = yhat != -1  # Cria uma máscara para filtrar os pontos que não são outliers.\n",
        "data_clean = data[mask].copy()  # Cria uma cópia dos dados sem os outliers.\n",
        "\n",
        "kmeans = KMeans(n_clusters=5, n_init=10, random_state=42)  # Reaplica K-Means nos dados limpos, sem outliers.\n",
        "data_clean.loc[:, 'Clusters'] = kmeans.fit_predict(data_clean)  # Adiciona os rótulos dos clusters limpos ao DataFrame.\n"
      ],
      "metadata": {
        "id": "TOzc2Ki3BStu"
      },
      "execution_count": 10,
      "outputs": []
    },
    {
      "cell_type": "markdown",
      "source": [
        "## **4.4 Análise Comparativa com Outros Algoritmos de Clustering**"
      ],
      "metadata": {
        "id": "4AIxWt_1BUP7"
      }
    },
    {
      "cell_type": "markdown",
      "source": [
        "Neste item, compara-se a performance de diferentes algoritmos de clustering, como DBSCAN, para determinar qual método é mais adequado para os dados."
      ],
      "metadata": {
        "id": "15fmg5vUBXl5"
      }
    },
    {
      "cell_type": "code",
      "source": [
        "dbscan = DBSCAN(eps=0.5, min_samples=5)  # Aplica o algoritmo DBSCAN nos dados.\n",
        "data['Clusters_DBSCAN'] = dbscan.fit_predict(data)  # Adiciona os rótulos dos clusters gerados pelo DBSCAN ao DataFrame original.\n",
        "\n",
        "print(data['Clusters_DBSCAN'].value_counts())  # Mostra a contagem dos elementos em cada cluster gerado pelo DBSCAN.\n"
      ],
      "metadata": {
        "colab": {
          "base_uri": "https://localhost:8080/"
        },
        "id": "2zBigUJWBZPk",
        "outputId": "741ac172-f320-480a-9154-70c0ba95bc53"
      },
      "execution_count": 11,
      "outputs": [
        {
          "output_type": "stream",
          "name": "stdout",
          "text": [
            "Clusters_DBSCAN\n",
            "-1     680152\n",
            " 0        683\n",
            " 3        341\n",
            " 4         66\n",
            " 2         59\n",
            " 1         55\n",
            " 10        12\n",
            " 6         10\n",
            " 11         9\n",
            " 9          7\n",
            " 7          6\n",
            " 8          5\n",
            " 5          5\n",
            " 12         5\n",
            " 13         5\n",
            " 14         5\n",
            " 15         5\n",
            "Name: count, dtype: int64\n"
          ]
        }
      ]
    },
    {
      "cell_type": "markdown",
      "source": [
        "# **5. Análise Gráfica**"
      ],
      "metadata": {
        "id": "9uff0og4Bay_"
      }
    },
    {
      "cell_type": "markdown",
      "source": [
        "## **5.1 Visualização dos Grupos**"
      ],
      "metadata": {
        "id": "NFMkJsxHBfYS"
      }
    },
    {
      "cell_type": "markdown",
      "source": [
        "A média dos traços de personalidade por cluster é visualizada, facilitando a compreensão dos perfis de personalidade identificados."
      ],
      "metadata": {
        "id": "64Z-lJd8BiY9"
      }
    },
    {
      "cell_type": "code",
      "source": [
        "# Definindo as listas de colunas para cada grupo de traços de personalidade\n",
        "col_list = list(data.columns)\n",
        "ext = col_list[0:10]   # Colunas para Extroversão\n",
        "est = col_list[10:20]  # Colunas para Neuroticismo\n",
        "agr = col_list[20:30]  # Colunas para Agradabilidade (Agreeableness)\n",
        "csn = col_list[30:40]  # Colunas para Conscienciosidade (Conscientiousness)\n",
        "opn = col_list[40:50]  # Colunas para Abertura à Experiência (Openness)\n",
        "\n",
        "# Somando os valores de cada grupo para criar a variável data_soma\n",
        "data_soma = pd.DataFrame()\n",
        "data_soma['extroversion'] = data[ext].sum(axis=1)/10\n",
        "data_soma['neurotic'] = data[est].sum(axis=1)/10\n",
        "data_soma['agreeable'] = data[agr].sum(axis=1)/10\n",
        "data_soma['conscientious'] = data[csn].sum(axis=1)/10\n",
        "data_soma['open'] = data[opn].sum(axis=1)/10\n",
        "data_soma['clusters'] = data['Clusters']\n",
        "\n",
        "# Agrupando pela média de cada cluster\n",
        "data_clusters = data_soma.groupby('clusters').mean()\n",
        "\n",
        "# Visualizando as médias por grupo, ajustando o loop para o número correto de clusters\n",
        "plt.figure(figsize=(22, 3))\n",
        "for i in range(len(data_clusters)):\n",
        "    plt.subplot(1, len(data_clusters), i + 1)\n",
        "    plt.bar(data_clusters.columns, data_clusters.iloc[i], color='green', alpha=0.2)  # Usando .iloc[i] para acessar a linha i\n",
        "    plt.plot(data_clusters.columns, data_clusters.iloc[i], color='red')\n",
        "    plt.title('Grupo ' + str(data_clusters.index[i]))\n",
        "    plt.xticks(rotation=45)\n",
        "    plt.ylim(0, 4)"
      ],
      "metadata": {
        "colab": {
          "base_uri": "https://localhost:8080/",
          "height": 247
        },
        "id": "YanPMRp1BlNI",
        "outputId": "6779a6c3-f6a5-4f5c-a2a4-5fcc72781bef"
      },
      "execution_count": 12,
      "outputs": [
        {
          "output_type": "display_data",
          "data": {
            "text/plain": [
              "<Figure size 2200x300 with 4 Axes>"
            ],
            "image/png": "[encoded data removed]"
          },
          "metadata": {}
        }
      ]
    },
    {
      "cell_type": "markdown",
      "source": [
        "**Insight:**\n",
        "\n",
        "Os clusters gerados pelo K-Means revelaram grupos de indivíduos com perfis de personalidade bem distintos, permitindo a identificação de padrões comuns entre os membros de cada cluster."
      ],
      "metadata": {
        "id": "aMfcoE4CBoau"
      }
    },
    {
      "cell_type": "markdown",
      "source": [
        "## **5.2 Visualização dos Clusters após PCA**"
      ],
      "metadata": {
        "id": "ERunvKl2BrlJ"
      }
    },
    {
      "cell_type": "markdown",
      "source": [
        "Os clusters gerados após a aplicação do PCA são visualizados, mostrando como a redução de dimensionalidade impacta a separação dos grupos."
      ],
      "metadata": {
        "id": "hw2g_9lTBtv1"
      }
    },
    {
      "cell_type": "code",
      "source": [
        "plt.scatter(data_pca[:, 0], data_pca[:, 1], c=data['Clusters_PCA'])\n",
        "plt.title('Clusters após PCA')\n",
        "plt.xlabel('Componente Principal 1')\n",
        "plt.ylabel('Componente Principal 2')\n",
        "plt.show()"
      ],
      "metadata": {
        "colab": {
          "base_uri": "https://localhost:8080/",
          "height": 524
        },
        "id": "dk2lHnuLByqJ",
        "outputId": "70594a27-6df3-4027-b715-34306e10bb3a"
      },
      "execution_count": 13,
      "outputs": [
        {
          "output_type": "display_data",
          "data": {
            "text/plain": [
              "<Figure size 800x550 with 1 Axes>"
            ],
            "image/png": "[encoded data removed]"
          },
          "metadata": {}
        }
      ]
    },
    {
      "cell_type": "markdown",
      "source": [
        "**Insight:**\n",
        "\n",
        "O PCA ajudou a melhorar a visualização da separação entre os clusters, tornando mais claro como os traços de personalidade se agrupam naturalmente."
      ],
      "metadata": {
        "id": "mDgxHIbNB135"
      }
    },
    {
      "cell_type": "markdown",
      "source": [
        "## **5.3 Visualização da Distribuição dos Clusters**"
      ],
      "metadata": {
        "id": "vJPlNY6ZB43l"
      }
    },
    {
      "cell_type": "markdown",
      "source": [
        "A distribuição dos dados em cada cluster é visualizada para verificar a uniformidade e a representatividade dos clusters."
      ],
      "metadata": {
        "id": "4UBQXA4RB9uQ"
      }
    },
    {
      "cell_type": "code",
      "source": [
        "data['Clusters'].value_counts().plot(kind='bar')\n",
        "plt.title('Distribuição dos Participantes por Cluster')\n",
        "plt.xlabel('Clusters')\n",
        "plt.ylabel('Número de Participantes')\n",
        "plt.show()"
      ],
      "metadata": {
        "colab": {
          "base_uri": "https://localhost:8080/",
          "height": 517
        },
        "id": "iRSk6qg2B89P",
        "outputId": "1dbc86f8-7d31-4b4a-df16-b7ab6eacf67d"
      },
      "execution_count": 14,
      "outputs": [
        {
          "output_type": "display_data",
          "data": {
            "text/plain": [
              "<Figure size 800x550 with 1 Axes>"
            ],
            "image/png": "[encoded data removed]"
          },
          "metadata": {}
        }
      ]
    },
    {
      "cell_type": "markdown",
      "source": [
        "**Insight:**\n",
        "\n",
        "A distribuição dos clusters mostrou que os participantes estavam razoavelmente bem distribuídos entre os diferentes grupos, sem grandes desequilíbrios."
      ],
      "metadata": {
        "id": "fuWSHHuYCBRg"
      }
    },
    {
      "cell_type": "markdown",
      "source": [
        "## **5.4 Comparação dos Clusters K-Means e DBSCAN**"
      ],
      "metadata": {
        "id": "GE3vs9kaCFGU"
      }
    },
    {
      "cell_type": "markdown",
      "source": [
        "Este novo item compara graficamente os clusters gerados pelos algoritmos K-Means e DBSCAN, ajudando a visualizar as diferenças na formação dos clusters."
      ],
      "metadata": {
        "id": "blW2_qx0CJTR"
      }
    },
    {
      "cell_type": "code",
      "source": [
        "# Visualização dos clusters gerados pelo DBSCAN\n",
        "plt.figure(figsize=(10, 6))\n",
        "plt.scatter(data_pca[:, 0], data_pca[:, 1], c=data['Clusters_DBSCAN'], cmap='viridis')\n",
        "plt.title('Clusters DBSCAN após PCA')\n",
        "plt.xlabel('Componente Principal 1')\n",
        "plt.ylabel('Componente Principal 2')\n",
        "plt.colorbar(label='Cluster Label')\n",
        "plt.show()"
      ],
      "metadata": {
        "colab": {
          "base_uri": "https://localhost:8080/",
          "height": 562
        },
        "id": "NG8BgPrnCLWU",
        "outputId": "6a9c6cee-2e6d-43ab-f0f6-0026df715642"
      },
      "execution_count": 15,
      "outputs": [
        {
          "output_type": "display_data",
          "data": {
            "text/plain": [
              "<Figure size 1000x600 with 2 Axes>"
            ],
            "image/png": "[encoded data removed]"
          },
          "metadata": {}
        }
      ]
    },
    {
      "cell_type": "markdown",
      "source": [
        "**Insight:**\n",
        "\n",
        "A comparação entre K-Means e DBSCAN revelou que, enquanto o K-Means tende a formar clusters mais compactos e bem definidos, o DBSCAN identificou clusters mais irregulares e também conseguiu detectar outliers com mais precisão."
      ],
      "metadata": {
        "id": "0HoX_G53CQHf"
      }
    },
    {
      "cell_type": "markdown",
      "source": [
        "# **6. Resumo**"
      ],
      "metadata": {
        "id": "7QRJoNhcCScM"
      }
    },
    {
      "cell_type": "markdown",
      "source": [
        "Este projeto utilizou técnicas de Machine Learning para analisar traços de personalidade baseados no modelo OCEAN. A partir de uma extensa exploração de dados, seguida pela aplicação e refinamento de algoritmos de clustering, conseguimos identificar e caracterizar diferentes perfis de personalidade. As visualizações gráficas permitiram uma compreensão clara dos padrões encontrados, destacando a eficácia do PCA na melhoria da separação dos clusters.\n",
        "\n",
        "Os resultados sugerem que esses perfis podem ser úteis para aplicações em psicologia, recursos humanos e marketing, onde a compreensão dos traços de personalidade é fundamental. Futuros trabalhos podem explorar o uso de outros algoritmos de clustering ou expandir a análise para incluir dados adicionais, oferecendo uma visão ainda mais abrangente dos traços de personalidade."
      ],
      "metadata": {
        "id": "dbfBmIpmCWw-"
      }
    }
  ]
}