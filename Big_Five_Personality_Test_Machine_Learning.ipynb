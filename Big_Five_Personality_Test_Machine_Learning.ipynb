{
  "nbformat": 4,
  "nbformat_minor": 0,
  "metadata": {
    "colab": {
      "provenance": [],
      "authorship_tag": "ABX9TyNZGCNWb2GI3NnXHnTddmUh",
      "include_colab_link": true
    },
    "kernelspec": {
      "name": "python3",
      "display_name": "Python 3"
    },
    "language_info": {
      "name": "python"
    }
  },
  "cells": [
    {
      "cell_type": "markdown",
      "metadata": {
        "id": "view-in-github",
        "colab_type": "text"
      },
      "source": [
        "<a href=\"https://colab.research.google.com/github/Hedrios/Big-Five-Personality-Test---Machine-Learning/blob/main/Big_Five_Personality_Test_Machine_Learning.ipynb\" target=\"_parent\"><img src=\"https://colab.research.google.com/assets/colab-badge.svg\" alt=\"Open In Colab\"/></a>"
      ]
    },
    {
      "cell_type": "markdown",
      "source": [
        "# **Big Five Personality Test - Machine Learning**"
      ],
      "metadata": {
        "id": "zqWTd-Er_jIN"
      }
    },
    {
      "cell_type": "markdown",
      "source": [
        "Link do Desafio do Projeto\n",
        "\n",
        "https://www.kaggle.com/datasets/tunguz/big-five-personality-test"
      ],
      "metadata": {
        "id": "-BAsnoCJ_nvF"
      }
    },
    {
      "cell_type": "markdown",
      "source": [
        "# **1. Contexto**"
      ],
      "metadata": {
        "id": "Uc8i6eMN_puO"
      }
    },
    {
      "cell_type": "markdown",
      "source": [
        "Este projeto tem como objetivo realizar uma análise exploratória dos traços de personalidade com base no modelo OCEAN (Openness, Conscientiousness, Extraversion, Agreeableness, Neuroticism), também conhecido como Big Five. Utilizando técnicas de Machine Learning, como algoritmos de clustering, buscamos identificar padrões de personalidade em um grande conjunto de dados obtido a partir de um teste de personalidade. A análise é conduzida de forma a descobrir como esses traços se agrupam em diferentes perfis de personalidade, oferecendo insights que podem ser aplicados em áreas como psicologia, recursos humanos e marketing."
      ],
      "metadata": {
        "id": "qpCXUXP-_vu-"
      }
    },
    {
      "cell_type": "markdown",
      "source": [
        "# **2. Pacotes e bibliotecas**"
      ],
      "metadata": {
        "id": "Eo813eMU_yin"
      }
    },
    {
      "cell_type": "code",
      "source": [
        "# Instalação do pacote Gradio\n",
        "!pip install gradio\n",
        "\n",
        "# Importação das bibliotecas\n",
        "import numpy as np  # Usado para cálculos matemáticos e manipulação de arrays.\n",
        "import pandas as pd  # Usado para trabalhar com dados em tabelas (DataFrames).\n",
        "import matplotlib.pyplot as plt  # Usado para criar gráficos e visualizações.\n",
        "import seaborn as sns  # Usado para criar gráficos bonitos e estatísticos.\n",
        "import gradio as gr  # Usado para criar interfaces interativas para modelos de Machine Learning.\n",
        "import os  # Usado para interagir com o sistema de arquivos do computador.\n",
        "\n",
        "from sklearn.ensemble import IsolationForest  # Usado para detectar outliers (valores anômalos) nos dados.\n",
        "from sklearn.decomposition import PCA  # Usado para reduzir o número de variáveis, facilitando a visualização.\n",
        "from sklearn.cluster import KMeans  # Usado para agrupar dados em grupos com características semelhantes.\n",
        "from sklearn.cluster import DBSCAN  # Usado para agrupar dados baseado na densidade dos pontos.\n",
        "from yellowbrick.cluster import KElbowVisualizer  # Usado para ajudar a escolher o melhor número de grupos para o K-Means."
      ],
      "metadata": {
        "id": "SCZRZ31g_2oc"
      },
      "execution_count": null,
      "outputs": []
    },
    {
      "cell_type": "markdown",
      "source": [
        "# **3. Exploração de dados**"
      ],
      "metadata": {
        "id": "6aadppLY_5vJ"
      }
    },
    {
      "cell_type": "markdown",
      "source": [
        "## **3.1 Coleta**"
      ],
      "metadata": {
        "id": "29ZkSB0j_96_"
      }
    },
    {
      "cell_type": "markdown",
      "source": [
        "### **3.1.1 Download dos dado bruto**"
      ],
      "metadata": {
        "id": "XLn4TyzNABCT"
      }
    },
    {
      "cell_type": "code",
      "source": [
        "# Usar gdown para baixar o arquivo do Google Drive\n",
        "!gdown 'https://drive.google.com/uc?export=download&id=1cIpmCqhN1kxNvOLvuPbjMjZPBhWEY0Z0' -O data-final.csv"
      ],
      "metadata": {
        "id": "BS4jfyE1AEh6"
      },
      "execution_count": null,
      "outputs": []
    },
    {
      "cell_type": "markdown",
      "source": [
        "### **3.1.2 Carregar os dados do arquivo em um dicionário Python**"
      ],
      "metadata": {
        "id": "cLbKDSU-AGWw"
      }
    },
    {
      "cell_type": "code",
      "source": [
        "data = pd.read_csv('data-final.csv', sep='\\t')\n",
        "\n",
        "# Mostrar as primeiras linhas do arquivo limpo\n",
        "data.head()"
      ],
      "metadata": {
        "id": "VuMUMhNFAKa6"
      },
      "execution_count": null,
      "outputs": []
    },
    {
      "cell_type": "markdown",
      "source": [
        "## **3.2 Limpeza e Preparação dos Dados**"
      ],
      "metadata": {
        "id": "DTBCedwbAQNo"
      }
    },
    {
      "cell_type": "markdown",
      "source": [
        "Removemos colunas irrelevantes e filtramos os registros com valores inválidos."
      ],
      "metadata": {
        "id": "IXx2G3ZzATOZ"
      }
    },
    {
      "cell_type": "code",
      "source": [
        "data.drop(data.columns[50:110], axis=1, inplace=True)  # Este código remove as colunas irrelevantes do DataFrame, mantendo apenas as necessárias para a análise.\n",
        "data = data[(data > 0.00).all(axis=1)]  # Este código remove as linhas que contêm zeros em todas as colunas, mantendo apenas registros válidos.\n",
        "data.head()"
      ],
      "metadata": {
        "id": "7wMSVdDqAWSi"
      },
      "execution_count": null,
      "outputs": []
    },
    {
      "cell_type": "markdown",
      "source": [
        "## **3.3 Análise Estatística**"
      ],
      "metadata": {
        "id": "P_01rGwqAYOI"
      }
    },
    {
      "cell_type": "markdown",
      "source": [
        "Calculamos estatísticas descritivas básicas para entender a distribuição dos dados."
      ],
      "metadata": {
        "id": "nKKneTtkAbj6"
      }
    },
    {
      "cell_type": "code",
      "source": [
        "# Este código gera uma visão geral dos dados, incluindo média, desvio padrão, e os valores mínimo e máximo para cada coluna.\n",
        "data.describe()"
      ],
      "metadata": {
        "id": "WvkkUk6dAewv"
      },
      "execution_count": null,
      "outputs": []
    },
    {
      "cell_type": "markdown",
      "source": [
        "# **4. Manipulação de Dados**"
      ],
      "metadata": {
        "id": "2w1dqC9UAk8V"
      }
    },
    {
      "cell_type": "markdown",
      "source": [
        "## **4.1 Criação de Clusters**"
      ],
      "metadata": {
        "id": "qyj5KPV2AptS"
      }
    },
    {
      "cell_type": "markdown",
      "source": [
        "Usamos KMeans para agrupar os dados em clusters de personalidades semelhantes."
      ],
      "metadata": {
        "id": "cTu2s2eAAtdY"
      }
    },
    {
      "cell_type": "code",
      "source": [
        "# Configurando o K-Means com 5 clusters e definindo explicitamente n_init para evitar o aviso\n",
        "kmeans = KMeans(n_clusters=5, n_init=10, random_state=42)  # n_init=10 é definido explicitamente\n",
        "k_fit = kmeans.fit(data)  # Ajusta o modelo K-Means aos dados\n",
        "data['Clusters'] = k_fit.labels_  # Adiciona os rótulos dos clusters ao DataFrame original"
      ],
      "metadata": {
        "id": "rnP3YotXAvZ3"
      },
      "execution_count": null,
      "outputs": []
    },
    {
      "cell_type": "markdown",
      "source": [
        "Calculamos a média dos traços de personalidade em cada cluster."
      ],
      "metadata": {
        "id": "ysj43RjXAwlL"
      }
    },
    {
      "cell_type": "code",
      "source": [
        "data.groupby('Clusters').mean()  # Este código calcula a média dos traços de personalidade para cada cluster, ajudando a identificar as características predominantes em cada grupo.\n",
        "data = data[(data > 0.00).all(axis=1)]  # Este código remove as linhas que contêm zeros em todas as colunas, mantendo apenas registros válidos.\n"
      ],
      "metadata": {
        "id": "LLMwPBbCAyUt"
      },
      "execution_count": null,
      "outputs": []
    },
    {
      "cell_type": "markdown",
      "source": [
        "## **4.2 Refinamento dos Clusters**"
      ],
      "metadata": {
        "id": "0JfCIt9_A1sD"
      }
    },
    {
      "cell_type": "markdown",
      "source": [
        "###  **4.2.1 Análise de Distribuição de Clusters**"
      ],
      "metadata": {
        "id": "DECGOVKFA5fz"
      }
    },
    {
      "cell_type": "markdown",
      "source": [
        "Antes de tomar decisões baseadas nos clusters gerados, é útil analisar a distribuição dos dados em cada cluster. Isso ajuda a entender se os clusters são equilibrados ou se há necessidade de ajustes."
      ],
      "metadata": {
        "id": "Tavb1yGQA8vA"
      }
    },
    {
      "cell_type": "code",
      "source": [
        "data['Clusters'].value_counts()  # Conta o número de elementos em cada cluster para análise de distribuição."
      ],
      "metadata": {
        "id": "CjXWA06xA_9y"
      },
      "execution_count": null,
      "outputs": []
    },
    {
      "cell_type": "markdown",
      "source": [
        "### **4.2.2 Otimização dos Clusters com PCA**"
      ],
      "metadata": {
        "id": "Husc0weaBDuk"
      }
    },
    {
      "cell_type": "markdown",
      "source": [
        "Para melhorar a separação entre os clusters, você pode usar Análise de Componentes Principais (PCA) para reduzir a dimensionalidade dos dados antes de aplicar o K-Means."
      ],
      "metadata": {
        "id": "S2zpMZeSBG9o"
      }
    },
    {
      "cell_type": "code",
      "source": [
        "# Redução da dimensionalidade com PCA\n",
        "pca = PCA(n_components=2)\n",
        "data_pca = pca.fit_transform(data)\n",
        "\n",
        "# Aplicação de K-Means nos dados transformados, com n_init explicitamente definido\n",
        "kmeans = KMeans(n_clusters=5, n_init=10, random_state=42)  # Inclui n_init para suprimir o aviso\n",
        "data['Clusters_PCA'] = kmeans.fit_predict(data_pca)"
      ],
      "metadata": {
        "id": "T9ce33ifBJHg"
      },
      "execution_count": null,
      "outputs": []
    },
    {
      "cell_type": "markdown",
      "source": [
        "## **4.3 Análise de Outliers**"
      ],
      "metadata": {
        "id": "GmY92yYOBLpr"
      }
    },
    {
      "cell_type": "markdown",
      "source": [
        "A presença de outliers pode afetar negativamente a performance do K-Means. É importante identificar e tratar esses pontos antes de realizar a clusterização."
      ],
      "metadata": {
        "id": "Dny0JDVgBQra"
      }
    },
    {
      "cell_type": "code",
      "source": [
        "iso = IsolationForest(contamination=0.01, random_state=42)  # Configura o Isolation Forest com 1% de contaminação.\n",
        "yhat = iso.fit_predict(data)  # Prediz quais pontos são outliers.\n",
        "mask = yhat != -1  # Cria uma máscara para filtrar os pontos que não são outliers.\n",
        "data_clean = data[mask].copy()  # Cria uma cópia dos dados sem os outliers.\n",
        "\n",
        "kmeans = KMeans(n_clusters=5, n_init=10, random_state=42)  # Reaplica K-Means nos dados limpos, sem outliers.\n",
        "data_clean.loc[:, 'Clusters'] = kmeans.fit_predict(data_clean)  # Adiciona os rótulos dos clusters limpos ao DataFrame.\n"
      ],
      "metadata": {
        "id": "TOzc2Ki3BStu"
      },
      "execution_count": null,
      "outputs": []
    },
    {
      "cell_type": "markdown",
      "source": [
        "## **4.4 Análise Comparativa com Outros Algoritmos de Clustering**"
      ],
      "metadata": {
        "id": "4AIxWt_1BUP7"
      }
    },
    {
      "cell_type": "markdown",
      "source": [
        "Neste item, compara-se a performance de diferentes algoritmos de clustering, como DBSCAN, para determinar qual método é mais adequado para os dados."
      ],
      "metadata": {
        "id": "15fmg5vUBXl5"
      }
    },
    {
      "cell_type": "code",
      "source": [
        "dbscan = DBSCAN(eps=0.5, min_samples=5)  # Aplica o algoritmo DBSCAN nos dados.\n",
        "data['Clusters_DBSCAN'] = dbscan.fit_predict(data)  # Adiciona os rótulos dos clusters gerados pelo DBSCAN ao DataFrame original.\n",
        "\n",
        "print(data['Clusters_DBSCAN'].value_counts())  # Mostra a contagem dos elementos em cada cluster gerado pelo DBSCAN.\n"
      ],
      "metadata": {
        "id": "2zBigUJWBZPk"
      },
      "execution_count": null,
      "outputs": []
    },
    {
      "cell_type": "markdown",
      "source": [
        "# **5. Análise Gráfica**"
      ],
      "metadata": {
        "id": "9uff0og4Bay_"
      }
    },
    {
      "cell_type": "markdown",
      "source": [
        "## **5.1 Visualização dos Grupos**"
      ],
      "metadata": {
        "id": "NFMkJsxHBfYS"
      }
    },
    {
      "cell_type": "markdown",
      "source": [
        "A média dos traços de personalidade por cluster é visualizada, facilitando a compreensão dos perfis de personalidade identificados."
      ],
      "metadata": {
        "id": "64Z-lJd8BiY9"
      }
    },
    {
      "cell_type": "code",
      "source": [
        "# Definindo as listas de colunas para cada grupo de traços de personalidade\n",
        "col_list = list(data.columns)\n",
        "ext = col_list[0:10]   # Colunas para Extroversão\n",
        "est = col_list[10:20]  # Colunas para Neuroticismo\n",
        "agr = col_list[20:30]  # Colunas para Agradabilidade (Agreeableness)\n",
        "csn = col_list[30:40]  # Colunas para Conscienciosidade (Conscientiousness)\n",
        "opn = col_list[40:50]  # Colunas para Abertura à Experiência (Openness)\n",
        "\n",
        "# Somando os valores de cada grupo para criar a variável data_soma\n",
        "data_soma = pd.DataFrame()\n",
        "data_soma['extroversion'] = data[ext].sum(axis=1)/10\n",
        "data_soma['neurotic'] = data[est].sum(axis=1)/10\n",
        "data_soma['agreeable'] = data[agr].sum(axis=1)/10\n",
        "data_soma['conscientious'] = data[csn].sum(axis=1)/10\n",
        "data_soma['open'] = data[opn].sum(axis=1)/10\n",
        "data_soma['clusters'] = data['Clusters']\n",
        "\n",
        "# Agrupando pela média de cada cluster\n",
        "data_clusters = data_soma.groupby('clusters').mean()\n",
        "\n",
        "# Visualizando as médias por grupo, ajustando o loop para o número correto de clusters\n",
        "plt.figure(figsize=(22, 3))\n",
        "for i in range(len(data_clusters)):\n",
        "    plt.subplot(1, len(data_clusters), i + 1)\n",
        "    plt.bar(data_clusters.columns, data_clusters.iloc[i], color='green', alpha=0.2)  # Usando .iloc[i] para acessar a linha i\n",
        "    plt.plot(data_clusters.columns, data_clusters.iloc[i], color='red')\n",
        "    plt.title('Grupo ' + str(data_clusters.index[i]))\n",
        "    plt.xticks(rotation=45)\n",
        "    plt.ylim(0, 4)"
      ],
      "metadata": {
        "id": "YanPMRp1BlNI"
      },
      "execution_count": null,
      "outputs": []
    },
    {
      "cell_type": "markdown",
      "source": [
        "**Insight:**\n",
        "\n",
        "Os clusters gerados pelo K-Means revelaram grupos de indivíduos com perfis de personalidade bem distintos, permitindo a identificação de padrões comuns entre os membros de cada cluster."
      ],
      "metadata": {
        "id": "aMfcoE4CBoau"
      }
    },
    {
      "cell_type": "markdown",
      "source": [
        "## **5.2 Visualização dos Clusters após PCA**"
      ],
      "metadata": {
        "id": "ERunvKl2BrlJ"
      }
    },
    {
      "cell_type": "markdown",
      "source": [
        "Os clusters gerados após a aplicação do PCA são visualizados, mostrando como a redução de dimensionalidade impacta a separação dos grupos."
      ],
      "metadata": {
        "id": "hw2g_9lTBtv1"
      }
    },
    {
      "cell_type": "code",
      "source": [
        "plt.scatter(data_pca[:, 0], data_pca[:, 1], c=data['Clusters_PCA'])\n",
        "plt.title('Clusters após PCA')\n",
        "plt.xlabel('Componente Principal 1')\n",
        "plt.ylabel('Componente Principal 2')\n",
        "plt.show()"
      ],
      "metadata": {
        "id": "dk2lHnuLByqJ"
      },
      "execution_count": null,
      "outputs": []
    },
    {
      "cell_type": "markdown",
      "source": [
        "**Insight:**\n",
        "\n",
        "O PCA ajudou a melhorar a visualização da separação entre os clusters, tornando mais claro como os traços de personalidade se agrupam naturalmente."
      ],
      "metadata": {
        "id": "mDgxHIbNB135"
      }
    },
    {
      "cell_type": "markdown",
      "source": [
        "## **5.3 Visualização da Distribuição dos Clusters**"
      ],
      "metadata": {
        "id": "vJPlNY6ZB43l"
      }
    },
    {
      "cell_type": "markdown",
      "source": [
        "A distribuição dos dados em cada cluster é visualizada para verificar a uniformidade e a representatividade dos clusters."
      ],
      "metadata": {
        "id": "4UBQXA4RB9uQ"
      }
    },
    {
      "cell_type": "code",
      "source": [
        "data['Clusters'].value_counts().plot(kind='bar')\n",
        "plt.title('Distribuição dos Participantes por Cluster')\n",
        "plt.xlabel('Clusters')\n",
        "plt.ylabel('Número de Participantes')\n",
        "plt.show()"
      ],
      "metadata": {
        "id": "iRSk6qg2B89P"
      },
      "execution_count": null,
      "outputs": []
    },
    {
      "cell_type": "markdown",
      "source": [
        "**Insight:**\n",
        "\n",
        "A distribuição dos clusters mostrou que os participantes estavam razoavelmente bem distribuídos entre os diferentes grupos, sem grandes desequilíbrios."
      ],
      "metadata": {
        "id": "fuWSHHuYCBRg"
      }
    },
    {
      "cell_type": "markdown",
      "source": [
        "## **5.4 Comparação dos Clusters K-Means e DBSCAN**"
      ],
      "metadata": {
        "id": "GE3vs9kaCFGU"
      }
    },
    {
      "cell_type": "markdown",
      "source": [
        "Este novo item compara graficamente os clusters gerados pelos algoritmos K-Means e DBSCAN, ajudando a visualizar as diferenças na formação dos clusters."
      ],
      "metadata": {
        "id": "blW2_qx0CJTR"
      }
    },
    {
      "cell_type": "code",
      "source": [
        "# Visualização dos clusters gerados pelo DBSCAN\n",
        "plt.figure(figsize=(10, 6))\n",
        "plt.scatter(data_pca[:, 0], data_pca[:, 1], c=data['Clusters_DBSCAN'], cmap='viridis')\n",
        "plt.title('Clusters DBSCAN após PCA')\n",
        "plt.xlabel('Componente Principal 1')\n",
        "plt.ylabel('Componente Principal 2')\n",
        "plt.colorbar(label='Cluster Label')\n",
        "plt.show()"
      ],
      "metadata": {
        "id": "NG8BgPrnCLWU"
      },
      "execution_count": null,
      "outputs": []
    },
    {
      "cell_type": "markdown",
      "source": [
        "**Insight:**\n",
        "\n",
        "A comparação entre K-Means e DBSCAN revelou que, enquanto o K-Means tende a formar clusters mais compactos e bem definidos, o DBSCAN identificou clusters mais irregulares e também conseguiu detectar outliers com mais precisão."
      ],
      "metadata": {
        "id": "0HoX_G53CQHf"
      }
    },
    {
      "cell_type": "markdown",
      "source": [
        "# **6. Resumo**"
      ],
      "metadata": {
        "id": "7QRJoNhcCScM"
      }
    },
    {
      "cell_type": "markdown",
      "source": [
        "Este projeto utilizou técnicas de Machine Learning para analisar traços de personalidade baseados no modelo OCEAN. A partir de uma extensa exploração de dados, seguida pela aplicação e refinamento de algoritmos de clustering, conseguimos identificar e caracterizar diferentes perfis de personalidade. As visualizações gráficas permitiram uma compreensão clara dos padrões encontrados, destacando a eficácia do PCA na melhoria da separação dos clusters.\n",
        "\n",
        "Os resultados sugerem que esses perfis podem ser úteis para aplicações em psicologia, recursos humanos e marketing, onde a compreensão dos traços de personalidade é fundamental. Futuros trabalhos podem explorar o uso de outros algoritmos de clustering ou expandir a análise para incluir dados adicionais, oferecendo uma visão ainda mais abrangente dos traços de personalidade."
      ],
      "metadata": {
        "id": "dbfBmIpmCWw-"
      }
    }
  ]
}